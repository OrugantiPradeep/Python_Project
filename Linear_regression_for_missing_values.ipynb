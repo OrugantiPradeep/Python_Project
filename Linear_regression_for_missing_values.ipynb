{
  "nbformat": 4,
  "nbformat_minor": 0,
  "metadata": {
    "kernelspec": {
      "display_name": "Python 3",
      "language": "python",
      "name": "python3"
    },
    "language_info": {
      "codemirror_mode": {
        "name": "ipython",
        "version": 3
      },
      "file_extension": ".py",
      "mimetype": "text/x-python",
      "name": "python",
      "nbconvert_exporter": "python",
      "pygments_lexer": "ipython3",
      "version": "3.7.7"
    },
    "colab": {
      "name": "Linear regression for missing values.ipynb",
      "provenance": []
    }
  },
  "cells": [
    {
      "cell_type": "markdown",
      "metadata": {
        "id": "GA8IQomiYaVZ"
      },
      "source": [
        "## - Linear regression for missing values\n",
        "\n",
        "Group members:\n",
        "- Name (ID): Charan K (0753844)\n",
        "- Name (ID): Pradeep Reddy O (0755620)\n",
        "- Name (ID): Sai Krishna V (0753617)"
      ]
    },
    {
      "cell_type": "markdown",
      "metadata": {
        "id": "qOGbcRsKYaVd"
      },
      "source": [
        "### Academic integrity statement\n",
        "\n",
        "*Replace the underscores below with your names, acknowledging that you have read and understood the statement in the context of St. Clair College’s Academic Integrity policies.*\n",
        "\n",
        "We, Charan K, Pradeep Reddy O, Sai Krishna V hereby state that in preparing this lab for submission for grading, we have abided by the College’s academic integrity policies, and that all work presented is our own."
      ]
    },
    {
      "cell_type": "markdown",
      "metadata": {
        "id": "1-srJGx7YaVe"
      },
      "source": [
        "### Overview\n",
        "\n",
        "In this lab, the main objective is to use a linear regression model to make predictions that you can use to fill in missing values in a dataset. The procedure is the same, however, you are using one of the features as the \"target\" instead of what you may normally think of as the target for that particular dataset. By the end of this lab you should have:\n",
        "\n",
        "- gained experience manipulating dataframes with Pandas\n",
        "- an initial understanding of how missing data is represented\n",
        "- applied a linear regression model to fill in missing data   "
      ]
    },
    {
      "cell_type": "markdown",
      "metadata": {
        "id": "VLGSBILaYaVf"
      },
      "source": [
        "### Grading\n",
        "\n",
        "This lab will be graded as follows:\n",
        "- 50% for comments/text\n",
        "    - Half of the lab grade will come from an assessment of the comments/text included in your Jupyter notebook submission\n",
        "        - The comments/text should explain clearly what you are doing and why it's necessary to achieve the objective\n",
        "        - You should think of the comments/text as if you were creating a tutorial/blog to guide someone through your work \n",
        "- 50% for code\n",
        "    - Half of the lab grade will come from an assessment of your code\n",
        "        - The code in the notebook should use base python, NumPy, Pandas, sklearn, and/or matplotlib. \n",
        "        - All code cells should run error free\n",
        "        - The code does not have to be optimized or pretty: it needs to be functional for the specific task"
      ]
    },
    {
      "cell_type": "markdown",
      "metadata": {
        "id": "H1Q0_TpNYaVf"
      },
      "source": [
        "### What to submit\n",
        "\n",
        "You should submit the following:\n",
        "- a well-commented Jupyter notebook\n",
        "- the original dataset used as a .csv file\n",
        "    - if it did not come as a .csv file, you can write to a .csv from Pandas using `.to_csv()`"
      ]
    },
    {
      "cell_type": "markdown",
      "metadata": {
        "id": "0BiRwt46YaVg"
      },
      "source": [
        "### Instructions\n",
        "\n",
        "Please execute the following steps using a mixture of base python, NumPy, sklearn, Pandas, and/or matplotlib:\n",
        "\n",
        "1. Find a dataset\n",
        "    - I would suggest looking [here](https://archive.ics.uci.edu/ml/datasets.php) for **regression** datasets\n",
        "    - The dataset for this lab does not have to be complicated, but it should meet the following criteria:\n",
        "        - have at least 100 samples/rows\n",
        "        - have at least 4 numeric features\n",
        "    - if necessary, categorical features can simply be dropped from the dataset\n",
        "2. Import the data as a Pandas dataframe\n",
        "    - Depending on the data format, you may need to consult this [page](https://pandas.pydata.org/pandas-docs/stable/reference/io.html)\n",
        "3. Verify that your data has no missing values\n",
        "    - If it does have missing values, drop them from the dataset but be sure that your dataset still meets the criteria of *Step 1* above\n",
        "4. Choose a single, numeric feature (not the target)\n",
        "    - Replace approximately 15% of the values of this feature with `nan`, which means \"not a number\" and is one way to represent missing data\n",
        "5. Split your dataset into 2 dataframes\n",
        "    - Dataframe 1: has all `nan` values for the feature chosen in *Step 4*\n",
        "    - Dataframe 2: has no `nan` values for the feature chosen in *Step 4*\n",
        "6. Use *Dataframe 2* to create a linear regression model to predict the feature chosen in *Step 4* (not the usual target)\n",
        "    - Split the data\n",
        "    - Scale the data\n",
        "    - Create the model\n",
        "    - evaluate the model on the train and test sets\n",
        "7. Use the model you created in *Step 6* to predict the missing values in *Dataframe 1*\n",
        "    - At the end of this step, *Dataframe 1* will have the `nan` values replaced with the predictions from the model you created in *Step 6*\n",
        "8. Create a final dataframe by combining *Dataframe 1* and *Dataframe 2*\n",
        "    - This dataframe should have no missing values\n",
        "9. Create a k nearest neighbours regressor (`k = 3`) for the dataframe you created in *Step 8*\n",
        "    - Follow the usual procedures\n",
        "10. Create a k nearest neighbours regressor (`k = 3`) for the original dataframe (from *Step 2* and maybe *Step 3*)\n",
        "    - Follow the usual procedures\n",
        "11. Is there any significant performance difference between *Step 9* and *Step 10*?\n"
      ]
    },
    {
      "cell_type": "markdown",
      "metadata": {
        "id": "o2UXzePfYaVh"
      },
      "source": [
        "### Visualizing the process\n",
        "\n",
        "<img src=\"Lab_2_sequence.png\" width=600 align=\"center\">"
      ]
    },
    {
      "cell_type": "markdown",
      "metadata": {
        "id": "Nqif3-kEYaVi"
      },
      "source": [
        "### Standard package import"
      ]
    },
    {
      "cell_type": "code",
      "metadata": {
        "id": "KjD-xLy9YaVj"
      },
      "source": [
        "# Importing important Packages which are required to complete this lab. \n",
        "\n",
        "import pandas as pd # We use pandas for data manipulation\n",
        "import numpy as np # numpy to do numerical calculations\n",
        "import seaborn as sns # For visualization\n",
        "import matplotlib.pyplot as plt # For visualization\n",
        "\n",
        "from sklearn.model_selection import train_test_split # for splitting the dataset in to train and test\n",
        "from sklearn.preprocessing import StandardScaler # We use standard Scaler for feature scaling\n",
        "\n",
        "\n",
        "\n",
        "from sklearn.linear_model import LinearRegression # To build Linear model\n",
        "from sklearn.neighbors import KNeighborsRegressor# To build K-Nearest Neighbor regressor\n",
        "from sklearn.neighbors import KNeighborsClassifier # To build K-Nearest classifier."
      ],
      "execution_count": null,
      "outputs": []
    },
    {
      "cell_type": "markdown",
      "metadata": {
        "id": "2HO0iby3YaVk"
      },
      "source": [
        "## About Dataset\n",
        "\n",
        "We are using seeds dataset for this LAB which we took from the [website](https://archive.ics.uci.edu/ml/datasets/seeds)\n",
        "\n",
        "It has 210 records and 8 Features (7 predictor variables and 1 Target variable). \n",
        "\n",
        "The data is stored in text format (.txt). "
      ]
    },
    {
      "cell_type": "markdown",
      "metadata": {
        "id": "8IfGxAUfYaVk"
      },
      "source": [
        "### Step 2 : Importing dataset"
      ]
    },
    {
      "cell_type": "code",
      "metadata": {
        "id": "T4Uic-phYaVk",
        "outputId": "d0aa301b-7ec1-46de-c89c-f421f9d9c36c"
      },
      "source": [
        "df_org = pd.read_csv('seeds_dataset.txt',header=None,delimiter='\\t',names=['Area','Perimeter','Compactness','Length Of Kernel','Width Of Kernel','Asymmetry Coefficient','Length Of Kernel Groove','Seed Type'])\n",
        "\n",
        "# we read data in to variable called df_org, which has original dataframe\n",
        "\n",
        "# First parameter which we give is a dataset file name, \n",
        "# By default it takes first row as header row, so we set header option to None\n",
        "# next parameter we gave is delimiter as the values in text file is tab separated \n",
        "# text file doesn't have column names, we gave column names which was described in the UCI repository. \n",
        "\n",
        "\n",
        "df_org.head() # Displays top 5 records of dataframe"
      ],
      "execution_count": null,
      "outputs": [
        {
          "output_type": "execute_result",
          "data": {
            "text/html": [
              "<div>\n",
              "<style scoped>\n",
              "    .dataframe tbody tr th:only-of-type {\n",
              "        vertical-align: middle;\n",
              "    }\n",
              "\n",
              "    .dataframe tbody tr th {\n",
              "        vertical-align: top;\n",
              "    }\n",
              "\n",
              "    .dataframe thead th {\n",
              "        text-align: right;\n",
              "    }\n",
              "</style>\n",
              "<table border=\"1\" class=\"dataframe\">\n",
              "  <thead>\n",
              "    <tr style=\"text-align: right;\">\n",
              "      <th></th>\n",
              "      <th>Area</th>\n",
              "      <th>Perimeter</th>\n",
              "      <th>Compactness</th>\n",
              "      <th>Length Of Kernel</th>\n",
              "      <th>Width Of Kernel</th>\n",
              "      <th>Asymmetry Coefficient</th>\n",
              "      <th>Length Of Kernel Groove</th>\n",
              "      <th>Seed Type</th>\n",
              "    </tr>\n",
              "  </thead>\n",
              "  <tbody>\n",
              "    <tr>\n",
              "      <th>0</th>\n",
              "      <td>15.26</td>\n",
              "      <td>14.84</td>\n",
              "      <td>0.8710</td>\n",
              "      <td>5.763</td>\n",
              "      <td>3.312</td>\n",
              "      <td>2.221</td>\n",
              "      <td>5.220</td>\n",
              "      <td>1</td>\n",
              "    </tr>\n",
              "    <tr>\n",
              "      <th>1</th>\n",
              "      <td>14.88</td>\n",
              "      <td>14.57</td>\n",
              "      <td>0.8811</td>\n",
              "      <td>5.554</td>\n",
              "      <td>3.333</td>\n",
              "      <td>1.018</td>\n",
              "      <td>4.956</td>\n",
              "      <td>1</td>\n",
              "    </tr>\n",
              "    <tr>\n",
              "      <th>2</th>\n",
              "      <td>14.29</td>\n",
              "      <td>14.09</td>\n",
              "      <td>0.9050</td>\n",
              "      <td>5.291</td>\n",
              "      <td>3.337</td>\n",
              "      <td>2.699</td>\n",
              "      <td>4.825</td>\n",
              "      <td>1</td>\n",
              "    </tr>\n",
              "    <tr>\n",
              "      <th>3</th>\n",
              "      <td>13.84</td>\n",
              "      <td>13.94</td>\n",
              "      <td>0.8955</td>\n",
              "      <td>5.324</td>\n",
              "      <td>3.379</td>\n",
              "      <td>2.259</td>\n",
              "      <td>4.805</td>\n",
              "      <td>1</td>\n",
              "    </tr>\n",
              "    <tr>\n",
              "      <th>4</th>\n",
              "      <td>16.14</td>\n",
              "      <td>14.99</td>\n",
              "      <td>0.9034</td>\n",
              "      <td>5.658</td>\n",
              "      <td>3.562</td>\n",
              "      <td>1.355</td>\n",
              "      <td>5.175</td>\n",
              "      <td>1</td>\n",
              "    </tr>\n",
              "  </tbody>\n",
              "</table>\n",
              "</div>"
            ],
            "text/plain": [
              "    Area  Perimeter  Compactness  Length Of Kernel  Width Of Kernel  \\\n",
              "0  15.26      14.84       0.8710             5.763            3.312   \n",
              "1  14.88      14.57       0.8811             5.554            3.333   \n",
              "2  14.29      14.09       0.9050             5.291            3.337   \n",
              "3  13.84      13.94       0.8955             5.324            3.379   \n",
              "4  16.14      14.99       0.9034             5.658            3.562   \n",
              "\n",
              "   Asymmetry Coefficient  Length Of Kernel Groove  Seed Type  \n",
              "0                  2.221                    5.220          1  \n",
              "1                  1.018                    4.956          1  \n",
              "2                  2.699                    4.825          1  \n",
              "3                  2.259                    4.805          1  \n",
              "4                  1.355                    5.175          1  "
            ]
          },
          "metadata": {
            "tags": []
          },
          "execution_count": 434
        }
      ]
    },
    {
      "cell_type": "code",
      "metadata": {
        "id": "NpweqA_YYaVm"
      },
      "source": [
        "df_org.to_csv('Seeds_data3.csv',index=False) \n",
        "\n",
        "# As datafile is in text format, we will now save it in 'csv' format using pandas 'to_csv' function. For LAB purpose.\n",
        "\n",
        "# First parameter which it take is \"file name with which you want to save along withextension\" and you set index parameter to False so that it wont show index values in csv file."
      ],
      "execution_count": null,
      "outputs": []
    },
    {
      "cell_type": "code",
      "metadata": {
        "id": "t3tLTLIlYaVm"
      },
      "source": [
        ""
      ],
      "execution_count": null,
      "outputs": []
    },
    {
      "cell_type": "code",
      "metadata": {
        "id": "rOxetHSMYaVm",
        "outputId": "871a1802-4e69-467a-8f39-02e3fe8f299a"
      },
      "source": [
        "df_org.shape # Checking the shape of dataframe df_org"
      ],
      "execution_count": null,
      "outputs": [
        {
          "output_type": "execute_result",
          "data": {
            "text/plain": [
              "(210, 8)"
            ]
          },
          "metadata": {
            "tags": []
          },
          "execution_count": 436
        }
      ]
    },
    {
      "cell_type": "code",
      "metadata": {
        "id": "KRbOU_-gYaVn"
      },
      "source": [
        "df = df_org.iloc[:,0:7] # Subsetting df_org such that we remove true target variable for implementing further steps\n",
        "\n",
        "# iloc is used for integer location based slicing.\n",
        "\n",
        "# [:,0:7] part represents [ ROWS , Columns], which mean it takes all rows and columns based on integer location which we specified i.e all the columns from 0 to 7 (7th column is excluded). [start:end).\n",
        "\n",
        "# In python, Indexing starts from 0, so we have to slice with 0"
      ],
      "execution_count": null,
      "outputs": []
    },
    {
      "cell_type": "code",
      "metadata": {
        "id": "2CmERjx5YaVn",
        "outputId": "3a31aada-7eae-40d2-bc80-f20cb5d7f9a7"
      },
      "source": [
        "print(df) # Displays the dataframe df, we see that we only have 7  columns and 210 observatiosn."
      ],
      "execution_count": null,
      "outputs": [
        {
          "output_type": "stream",
          "text": [
            "      Area  Perimeter  Compactness  Length Of Kernel  Width Of Kernel  \\\n",
            "0    15.26      14.84       0.8710             5.763            3.312   \n",
            "1    14.88      14.57       0.8811             5.554            3.333   \n",
            "2    14.29      14.09       0.9050             5.291            3.337   \n",
            "3    13.84      13.94       0.8955             5.324            3.379   \n",
            "4    16.14      14.99       0.9034             5.658            3.562   \n",
            "..     ...        ...          ...               ...              ...   \n",
            "205  12.19      13.20       0.8783             5.137            2.981   \n",
            "206  11.23      12.88       0.8511             5.140            2.795   \n",
            "207  13.20      13.66       0.8883             5.236            3.232   \n",
            "208  11.84      13.21       0.8521             5.175            2.836   \n",
            "209  12.30      13.34       0.8684             5.243            2.974   \n",
            "\n",
            "     Asymmetry Coefficient  Length Of Kernel Groove  \n",
            "0                    2.221                    5.220  \n",
            "1                    1.018                    4.956  \n",
            "2                    2.699                    4.825  \n",
            "3                    2.259                    4.805  \n",
            "4                    1.355                    5.175  \n",
            "..                     ...                      ...  \n",
            "205                  3.631                    4.870  \n",
            "206                  4.325                    5.003  \n",
            "207                  8.315                    5.056  \n",
            "208                  3.598                    5.044  \n",
            "209                  5.637                    5.063  \n",
            "\n",
            "[210 rows x 7 columns]\n"
          ],
          "name": "stdout"
        }
      ]
    },
    {
      "cell_type": "code",
      "metadata": {
        "id": "EQdL0ggcYaVn",
        "outputId": "eb628282-30f7-4ec4-f56b-ce9ec2db95f4"
      },
      "source": [
        "df.head() # Checking the dataframe df after deleting Target variable."
      ],
      "execution_count": null,
      "outputs": [
        {
          "output_type": "execute_result",
          "data": {
            "text/html": [
              "<div>\n",
              "<style scoped>\n",
              "    .dataframe tbody tr th:only-of-type {\n",
              "        vertical-align: middle;\n",
              "    }\n",
              "\n",
              "    .dataframe tbody tr th {\n",
              "        vertical-align: top;\n",
              "    }\n",
              "\n",
              "    .dataframe thead th {\n",
              "        text-align: right;\n",
              "    }\n",
              "</style>\n",
              "<table border=\"1\" class=\"dataframe\">\n",
              "  <thead>\n",
              "    <tr style=\"text-align: right;\">\n",
              "      <th></th>\n",
              "      <th>Area</th>\n",
              "      <th>Perimeter</th>\n",
              "      <th>Compactness</th>\n",
              "      <th>Length Of Kernel</th>\n",
              "      <th>Width Of Kernel</th>\n",
              "      <th>Asymmetry Coefficient</th>\n",
              "      <th>Length Of Kernel Groove</th>\n",
              "    </tr>\n",
              "  </thead>\n",
              "  <tbody>\n",
              "    <tr>\n",
              "      <th>0</th>\n",
              "      <td>15.26</td>\n",
              "      <td>14.84</td>\n",
              "      <td>0.8710</td>\n",
              "      <td>5.763</td>\n",
              "      <td>3.312</td>\n",
              "      <td>2.221</td>\n",
              "      <td>5.220</td>\n",
              "    </tr>\n",
              "    <tr>\n",
              "      <th>1</th>\n",
              "      <td>14.88</td>\n",
              "      <td>14.57</td>\n",
              "      <td>0.8811</td>\n",
              "      <td>5.554</td>\n",
              "      <td>3.333</td>\n",
              "      <td>1.018</td>\n",
              "      <td>4.956</td>\n",
              "    </tr>\n",
              "    <tr>\n",
              "      <th>2</th>\n",
              "      <td>14.29</td>\n",
              "      <td>14.09</td>\n",
              "      <td>0.9050</td>\n",
              "      <td>5.291</td>\n",
              "      <td>3.337</td>\n",
              "      <td>2.699</td>\n",
              "      <td>4.825</td>\n",
              "    </tr>\n",
              "    <tr>\n",
              "      <th>3</th>\n",
              "      <td>13.84</td>\n",
              "      <td>13.94</td>\n",
              "      <td>0.8955</td>\n",
              "      <td>5.324</td>\n",
              "      <td>3.379</td>\n",
              "      <td>2.259</td>\n",
              "      <td>4.805</td>\n",
              "    </tr>\n",
              "    <tr>\n",
              "      <th>4</th>\n",
              "      <td>16.14</td>\n",
              "      <td>14.99</td>\n",
              "      <td>0.9034</td>\n",
              "      <td>5.658</td>\n",
              "      <td>3.562</td>\n",
              "      <td>1.355</td>\n",
              "      <td>5.175</td>\n",
              "    </tr>\n",
              "  </tbody>\n",
              "</table>\n",
              "</div>"
            ],
            "text/plain": [
              "    Area  Perimeter  Compactness  Length Of Kernel  Width Of Kernel  \\\n",
              "0  15.26      14.84       0.8710             5.763            3.312   \n",
              "1  14.88      14.57       0.8811             5.554            3.333   \n",
              "2  14.29      14.09       0.9050             5.291            3.337   \n",
              "3  13.84      13.94       0.8955             5.324            3.379   \n",
              "4  16.14      14.99       0.9034             5.658            3.562   \n",
              "\n",
              "   Asymmetry Coefficient  Length Of Kernel Groove  \n",
              "0                  2.221                    5.220  \n",
              "1                  1.018                    4.956  \n",
              "2                  2.699                    4.825  \n",
              "3                  2.259                    4.805  \n",
              "4                  1.355                    5.175  "
            ]
          },
          "metadata": {
            "tags": []
          },
          "execution_count": 439
        }
      ]
    },
    {
      "cell_type": "code",
      "metadata": {
        "id": "YadLzNCVYaVo",
        "outputId": "4d0115ce-7e2c-4ea2-a407-2fc787b867d4"
      },
      "source": [
        "print(\"The shape of dataframe after Subsetting required columns from original dataframe and removing original target variable {}\".format(df.shape))"
      ],
      "execution_count": null,
      "outputs": [
        {
          "output_type": "stream",
          "text": [
            "The shape of dataframe after Subsetting required columns from original dataframe and removing original target variable (210, 7)\n"
          ],
          "name": "stdout"
        }
      ]
    },
    {
      "cell_type": "markdown",
      "metadata": {
        "id": "HME0snNaYaVo"
      },
      "source": [
        "#### 3. Verify that your data has no missing values : Checking for missing values"
      ]
    },
    {
      "cell_type": "code",
      "metadata": {
        "id": "5q-0sMi7YaVo",
        "outputId": "4a7455a9-36ee-4ad8-9a95-bffa9c0efbc3"
      },
      "source": [
        "df.info() \n",
        "# this command displays class of dataframe , Range Index (which is number of records), Column names.\n",
        "\n",
        "# It also displays Cloumn names, Non-Null count and Datatype of each variable in a tabular form. "
      ],
      "execution_count": null,
      "outputs": [
        {
          "output_type": "stream",
          "text": [
            "<class 'pandas.core.frame.DataFrame'>\n",
            "RangeIndex: 210 entries, 0 to 209\n",
            "Data columns (total 7 columns):\n",
            " #   Column                   Non-Null Count  Dtype  \n",
            "---  ------                   --------------  -----  \n",
            " 0   Area                     210 non-null    float64\n",
            " 1   Perimeter                210 non-null    float64\n",
            " 2   Compactness              210 non-null    float64\n",
            " 3   Length Of Kernel         210 non-null    float64\n",
            " 4   Width Of Kernel          210 non-null    float64\n",
            " 5   Asymmetry Coefficient    210 non-null    float64\n",
            " 6   Length Of Kernel Groove  210 non-null    float64\n",
            "dtypes: float64(7)\n",
            "memory usage: 11.6 KB\n"
          ],
          "name": "stdout"
        }
      ]
    },
    {
      "cell_type": "markdown",
      "metadata": {
        "id": "sPpmmHLNYaVp"
      },
      "source": [
        "##### It is clear that none of the 7 variables have missing values. Non-Null count column shows 210 for every column,  which mean there are NO-Null values. "
      ]
    },
    {
      "cell_type": "markdown",
      "metadata": {
        "id": "tzI2A1lhYaVp"
      },
      "source": [
        "### Step 4 : \n",
        "\n",
        "We choose the Feature \"Length of Kernel Groove\" for introducing \"NaN's\" in to the feature values"
      ]
    },
    {
      "cell_type": "code",
      "metadata": {
        "id": "PfqOMWxUYaVq"
      },
      "source": [
        ""
      ],
      "execution_count": null,
      "outputs": []
    },
    {
      "cell_type": "code",
      "metadata": {
        "id": "l48fHbXFYaVq"
      },
      "source": [
        "# Code reference https://stackoverflow.com/questions/39059032/randomly-insert-nas-values-in-a-pandas-dataframe/39059033\n",
        "\n",
        "\n",
        "\n",
        "df['Length Of Kernel Groove']= df['Length Of Kernel Groove'].mask(np.random.random(df['Length Of Kernel Groove'].shape) <= 0.20)\n",
        "\n",
        "# We used mask function to introducs NaN values in to the 'Length Of Kernel Groove' column. \n",
        "\n",
        "# 'np.random.random(df['Length Of Kernel Groove'].shape)' randomly generates 210 values between 0 and 1.\n",
        "\n",
        "# Mask is applied based on the condition which we applied, out of 210 values between 0 and 1 it checkes for values which is lessthan or equal to 0.15 and where ever condition is true it replaces that value with NaN\n",
        "\n",
        "# When condition in mask is false, it keeps original value\n",
        "\n",
        "\n",
        "\n",
        "# Not every time we get the same number of NaN values as we use random function, % of NaN's also vary with each run."
      ],
      "execution_count": null,
      "outputs": []
    },
    {
      "cell_type": "code",
      "metadata": {
        "id": "tfDGOQDvYaVq",
        "outputId": "acf03590-ee7e-454e-97f2-0494f01a937f"
      },
      "source": [
        "df.info() # Checking for Non-null count of \"Length Of Kernel Groove\" after applying MASK."
      ],
      "execution_count": null,
      "outputs": [
        {
          "output_type": "stream",
          "text": [
            "<class 'pandas.core.frame.DataFrame'>\n",
            "RangeIndex: 210 entries, 0 to 209\n",
            "Data columns (total 7 columns):\n",
            " #   Column                   Non-Null Count  Dtype  \n",
            "---  ------                   --------------  -----  \n",
            " 0   Area                     210 non-null    float64\n",
            " 1   Perimeter                210 non-null    float64\n",
            " 2   Compactness              210 non-null    float64\n",
            " 3   Length Of Kernel         210 non-null    float64\n",
            " 4   Width Of Kernel          210 non-null    float64\n",
            " 5   Asymmetry Coefficient    210 non-null    float64\n",
            " 6   Length Of Kernel Groove  176 non-null    float64\n",
            "dtypes: float64(7)\n",
            "memory usage: 11.6 KB\n"
          ],
          "name": "stdout"
        }
      ]
    },
    {
      "cell_type": "code",
      "metadata": {
        "id": "r_gCnSPPYaVr"
      },
      "source": [
        "Total_null_values = df['Length Of Kernel Groove'].isnull().sum() \n",
        "\n",
        "# Assigning sum of total null values to variable \"Total_null_values\""
      ],
      "execution_count": null,
      "outputs": []
    },
    {
      "cell_type": "code",
      "metadata": {
        "id": "XT0Cb2hFYaVr"
      },
      "source": [
        "Total_number_of_records = df['Length Of Kernel Groove'].shape[0]\n",
        "\n",
        "# df['Length Of Kernel Groove'].shape[0] gives the total observations count. Normally it will be a tuple of the form (rows, columns). We subset first value of tuple.\n",
        "\n",
        "# Assigning total number of Rows present in our target variable to \"Total_number_of_records\"."
      ],
      "execution_count": null,
      "outputs": []
    },
    {
      "cell_type": "code",
      "metadata": {
        "id": "e45hiur_YaVs",
        "outputId": "3e2461b3-a833-4e7d-e6d8-e999cbd0ca2d"
      },
      "source": [
        "print(\"The percentage of null values in the variable we selected is :{:.2f}%\".format((Total_null_values/Total_number_of_records)*100))\n",
        "\n",
        "\n",
        "\n",
        "# This value may change because we used random function for mask."
      ],
      "execution_count": null,
      "outputs": [
        {
          "output_type": "stream",
          "text": [
            "The percentage of null values in the variable we selected is :16.19%\n"
          ],
          "name": "stdout"
        }
      ]
    },
    {
      "cell_type": "code",
      "metadata": {
        "id": "aBKS9AhoYaVs"
      },
      "source": [
        ""
      ],
      "execution_count": null,
      "outputs": []
    },
    {
      "cell_type": "markdown",
      "metadata": {
        "id": "iSBlwyxPYaVs"
      },
      "source": [
        "### Step 5 : Split your dataset into 2 dataframes\n",
        "    - Dataframe 1: has all `nan` values for the feature chosen in *Step 4*\n",
        "    - Dataframe 2: has no `nan` values for the feature chosen in *Step 4*\n"
      ]
    },
    {
      "cell_type": "code",
      "metadata": {
        "id": "2LKjgyYYYaVs"
      },
      "source": [
        "df1= df[df['Length Of Kernel Groove'].isnull()] \n",
        "\n",
        "# df1 will now have all the rows with NaN values.\n",
        "# df['Length Of Kernel Groove'].isnull() -- Checks for if an observation contains NaN value in column ''Length Of Kernel Groove' returns True\\False values \n",
        "# df[df['Length Of Kernel Groove'].isnull()]  -- it returns only the rows which have TRUE values. i.e. all NaN observations will be saved to dataframe df1.\n",
        "\n",
        "\n",
        "\n",
        "\n",
        "df2= df[df['Length Of Kernel Groove'].notnull()] # df2 will now have all the rows with non-NaN values.\n",
        "\n",
        "# .notnull() works exactly opposite of isnull().\n",
        "\n",
        "# Checks for condition if particular observation is NaN or not and it returns true if it is not NaN. \n",
        "# We subset rows based on this condition and store all non-nul observations into dataframe df2."
      ],
      "execution_count": null,
      "outputs": []
    },
    {
      "cell_type": "code",
      "metadata": {
        "id": "r6FtG1fYYaVt",
        "outputId": "37bb38fd-dc42-4d5e-8c92-a8b9bfae34e2"
      },
      "source": [
        "print(\"The shape of dataframe which has NULL values : {}\".format(df1.shape)) # This command prints shape of df1\n",
        "\n",
        "print(\"The shape of dataframe which has NON-NULL values : {}\".format(df2.shape)) # This command prints shape of df2\n"
      ],
      "execution_count": null,
      "outputs": [
        {
          "output_type": "stream",
          "text": [
            "The shape of dataframe which has NULL values : (34, 7)\n",
            "The shape of dataframe which has NON-NULL values : (176, 7)\n"
          ],
          "name": "stdout"
        }
      ]
    },
    {
      "cell_type": "code",
      "metadata": {
        "id": "80fgvZP8YaVt",
        "outputId": "79d34dc1-d911-4691-9e77-1ee447cf3fa2"
      },
      "source": [
        "df1.isnull().sum() \n",
        "\n",
        "# .isnull() returns true /false and sum() adds all the values if it is True.\n"
      ],
      "execution_count": null,
      "outputs": [
        {
          "output_type": "execute_result",
          "data": {
            "text/plain": [
              "Area                        0\n",
              "Perimeter                   0\n",
              "Compactness                 0\n",
              "Length Of Kernel            0\n",
              "Width Of Kernel             0\n",
              "Asymmetry Coefficient       0\n",
              "Length Of Kernel Groove    34\n",
              "dtype: int64"
            ]
          },
          "metadata": {
            "tags": []
          },
          "execution_count": 449
        }
      ]
    },
    {
      "cell_type": "code",
      "metadata": {
        "id": "8iAfSG02YaVu",
        "outputId": "791ac752-8ffd-4e82-c1bc-4362c68b5811"
      },
      "source": [
        "df1.head() # Checking top 5 records of dataframe which has all NaN's."
      ],
      "execution_count": null,
      "outputs": [
        {
          "output_type": "execute_result",
          "data": {
            "text/html": [
              "<div>\n",
              "<style scoped>\n",
              "    .dataframe tbody tr th:only-of-type {\n",
              "        vertical-align: middle;\n",
              "    }\n",
              "\n",
              "    .dataframe tbody tr th {\n",
              "        vertical-align: top;\n",
              "    }\n",
              "\n",
              "    .dataframe thead th {\n",
              "        text-align: right;\n",
              "    }\n",
              "</style>\n",
              "<table border=\"1\" class=\"dataframe\">\n",
              "  <thead>\n",
              "    <tr style=\"text-align: right;\">\n",
              "      <th></th>\n",
              "      <th>Area</th>\n",
              "      <th>Perimeter</th>\n",
              "      <th>Compactness</th>\n",
              "      <th>Length Of Kernel</th>\n",
              "      <th>Width Of Kernel</th>\n",
              "      <th>Asymmetry Coefficient</th>\n",
              "      <th>Length Of Kernel Groove</th>\n",
              "    </tr>\n",
              "  </thead>\n",
              "  <tbody>\n",
              "    <tr>\n",
              "      <th>7</th>\n",
              "      <td>14.11</td>\n",
              "      <td>14.10</td>\n",
              "      <td>0.8911</td>\n",
              "      <td>5.420</td>\n",
              "      <td>3.302</td>\n",
              "      <td>2.700</td>\n",
              "      <td>NaN</td>\n",
              "    </tr>\n",
              "    <tr>\n",
              "      <th>8</th>\n",
              "      <td>16.63</td>\n",
              "      <td>15.46</td>\n",
              "      <td>0.8747</td>\n",
              "      <td>6.053</td>\n",
              "      <td>3.465</td>\n",
              "      <td>2.040</td>\n",
              "      <td>NaN</td>\n",
              "    </tr>\n",
              "    <tr>\n",
              "      <th>12</th>\n",
              "      <td>13.89</td>\n",
              "      <td>14.02</td>\n",
              "      <td>0.8880</td>\n",
              "      <td>5.439</td>\n",
              "      <td>3.199</td>\n",
              "      <td>3.986</td>\n",
              "      <td>NaN</td>\n",
              "    </tr>\n",
              "    <tr>\n",
              "      <th>29</th>\n",
              "      <td>13.45</td>\n",
              "      <td>14.02</td>\n",
              "      <td>0.8604</td>\n",
              "      <td>5.516</td>\n",
              "      <td>3.065</td>\n",
              "      <td>3.531</td>\n",
              "      <td>NaN</td>\n",
              "    </tr>\n",
              "    <tr>\n",
              "      <th>35</th>\n",
              "      <td>16.12</td>\n",
              "      <td>15.00</td>\n",
              "      <td>0.9000</td>\n",
              "      <td>5.709</td>\n",
              "      <td>3.485</td>\n",
              "      <td>2.270</td>\n",
              "      <td>NaN</td>\n",
              "    </tr>\n",
              "  </tbody>\n",
              "</table>\n",
              "</div>"
            ],
            "text/plain": [
              "     Area  Perimeter  Compactness  Length Of Kernel  Width Of Kernel  \\\n",
              "7   14.11      14.10       0.8911             5.420            3.302   \n",
              "8   16.63      15.46       0.8747             6.053            3.465   \n",
              "12  13.89      14.02       0.8880             5.439            3.199   \n",
              "29  13.45      14.02       0.8604             5.516            3.065   \n",
              "35  16.12      15.00       0.9000             5.709            3.485   \n",
              "\n",
              "    Asymmetry Coefficient  Length Of Kernel Groove  \n",
              "7                   2.700                      NaN  \n",
              "8                   2.040                      NaN  \n",
              "12                  3.986                      NaN  \n",
              "29                  3.531                      NaN  \n",
              "35                  2.270                      NaN  "
            ]
          },
          "metadata": {
            "tags": []
          },
          "execution_count": 450
        }
      ]
    },
    {
      "cell_type": "code",
      "metadata": {
        "id": "n41KFRZeYaVu",
        "outputId": "423b18e1-651a-4720-88ce-cdd2bc87c43e"
      },
      "source": [
        "df2.isnull().sum() # Checking to see if dataframe 2 has any NULL values."
      ],
      "execution_count": null,
      "outputs": [
        {
          "output_type": "execute_result",
          "data": {
            "text/plain": [
              "Area                       0\n",
              "Perimeter                  0\n",
              "Compactness                0\n",
              "Length Of Kernel           0\n",
              "Width Of Kernel            0\n",
              "Asymmetry Coefficient      0\n",
              "Length Of Kernel Groove    0\n",
              "dtype: int64"
            ]
          },
          "metadata": {
            "tags": []
          },
          "execution_count": 451
        }
      ]
    },
    {
      "cell_type": "code",
      "metadata": {
        "id": "Fb5dYr4QYaVu",
        "outputId": "262faaa2-2178-48e3-e718-85e87abc431c"
      },
      "source": [
        "df2.head() # Checking top 5 records of dataframe 2"
      ],
      "execution_count": null,
      "outputs": [
        {
          "output_type": "execute_result",
          "data": {
            "text/html": [
              "<div>\n",
              "<style scoped>\n",
              "    .dataframe tbody tr th:only-of-type {\n",
              "        vertical-align: middle;\n",
              "    }\n",
              "\n",
              "    .dataframe tbody tr th {\n",
              "        vertical-align: top;\n",
              "    }\n",
              "\n",
              "    .dataframe thead th {\n",
              "        text-align: right;\n",
              "    }\n",
              "</style>\n",
              "<table border=\"1\" class=\"dataframe\">\n",
              "  <thead>\n",
              "    <tr style=\"text-align: right;\">\n",
              "      <th></th>\n",
              "      <th>Area</th>\n",
              "      <th>Perimeter</th>\n",
              "      <th>Compactness</th>\n",
              "      <th>Length Of Kernel</th>\n",
              "      <th>Width Of Kernel</th>\n",
              "      <th>Asymmetry Coefficient</th>\n",
              "      <th>Length Of Kernel Groove</th>\n",
              "    </tr>\n",
              "  </thead>\n",
              "  <tbody>\n",
              "    <tr>\n",
              "      <th>0</th>\n",
              "      <td>15.26</td>\n",
              "      <td>14.84</td>\n",
              "      <td>0.8710</td>\n",
              "      <td>5.763</td>\n",
              "      <td>3.312</td>\n",
              "      <td>2.221</td>\n",
              "      <td>5.220</td>\n",
              "    </tr>\n",
              "    <tr>\n",
              "      <th>1</th>\n",
              "      <td>14.88</td>\n",
              "      <td>14.57</td>\n",
              "      <td>0.8811</td>\n",
              "      <td>5.554</td>\n",
              "      <td>3.333</td>\n",
              "      <td>1.018</td>\n",
              "      <td>4.956</td>\n",
              "    </tr>\n",
              "    <tr>\n",
              "      <th>2</th>\n",
              "      <td>14.29</td>\n",
              "      <td>14.09</td>\n",
              "      <td>0.9050</td>\n",
              "      <td>5.291</td>\n",
              "      <td>3.337</td>\n",
              "      <td>2.699</td>\n",
              "      <td>4.825</td>\n",
              "    </tr>\n",
              "    <tr>\n",
              "      <th>3</th>\n",
              "      <td>13.84</td>\n",
              "      <td>13.94</td>\n",
              "      <td>0.8955</td>\n",
              "      <td>5.324</td>\n",
              "      <td>3.379</td>\n",
              "      <td>2.259</td>\n",
              "      <td>4.805</td>\n",
              "    </tr>\n",
              "    <tr>\n",
              "      <th>4</th>\n",
              "      <td>16.14</td>\n",
              "      <td>14.99</td>\n",
              "      <td>0.9034</td>\n",
              "      <td>5.658</td>\n",
              "      <td>3.562</td>\n",
              "      <td>1.355</td>\n",
              "      <td>5.175</td>\n",
              "    </tr>\n",
              "  </tbody>\n",
              "</table>\n",
              "</div>"
            ],
            "text/plain": [
              "    Area  Perimeter  Compactness  Length Of Kernel  Width Of Kernel  \\\n",
              "0  15.26      14.84       0.8710             5.763            3.312   \n",
              "1  14.88      14.57       0.8811             5.554            3.333   \n",
              "2  14.29      14.09       0.9050             5.291            3.337   \n",
              "3  13.84      13.94       0.8955             5.324            3.379   \n",
              "4  16.14      14.99       0.9034             5.658            3.562   \n",
              "\n",
              "   Asymmetry Coefficient  Length Of Kernel Groove  \n",
              "0                  2.221                    5.220  \n",
              "1                  1.018                    4.956  \n",
              "2                  2.699                    4.825  \n",
              "3                  2.259                    4.805  \n",
              "4                  1.355                    5.175  "
            ]
          },
          "metadata": {
            "tags": []
          },
          "execution_count": 452
        }
      ]
    },
    {
      "cell_type": "markdown",
      "metadata": {
        "id": "_N7PFmfrYaVv"
      },
      "source": [
        "### Step 6 : Use *Dataframe 2* to create a linear regression model to predict the feature chosen in *Step 4* (not the usual target)"
      ]
    },
    {
      "cell_type": "markdown",
      "metadata": {
        "id": "3ncZMZd6YaVv"
      },
      "source": [
        "#### Splitting the data"
      ]
    },
    {
      "cell_type": "code",
      "metadata": {
        "id": "oigskbNgYaVv"
      },
      "source": [
        "X= df2.iloc[:,0:6].values \n",
        "\n",
        "\n",
        "# .values convert the input values of all features into numpy array. It will be easy for us to do calculations if it is in array format.\n",
        "# We subset all the Features except the Targert feature \"Length Of Kernel Groove\" from dataframe 2 and store it in variable x.\n",
        "\n",
        "\n",
        "\n",
        "y=df2.iloc[:,-1].values\n",
        "\n",
        "# We store target variable \"Length Of Kernel Groove\" values in variable 'y'\n",
        "# we used .values to convert the values to numpy array, which will be easy to perform mathematical features."
      ],
      "execution_count": null,
      "outputs": []
    },
    {
      "cell_type": "code",
      "metadata": {
        "id": "IPwjXunJYaVv"
      },
      "source": [
        ""
      ],
      "execution_count": null,
      "outputs": []
    },
    {
      "cell_type": "code",
      "metadata": {
        "id": "WEj1HgjQYaVw"
      },
      "source": [
        "X_train,X_test,y_train,y_test = train_test_split(X,y,random_state=1111) \n",
        "\n",
        "# train_test_split splits data into 75 - 25 ratio by default. i.e. 75% training data and 25% of test data."
      ],
      "execution_count": null,
      "outputs": []
    },
    {
      "cell_type": "code",
      "metadata": {
        "id": "qh5Qw1SvYaVw",
        "outputId": "0eeb49c1-5ee5-4f3e-9732-b6cb06c7a3c7"
      },
      "source": [
        "print(\"Shape of training data is {}\".format(X_train.shape))\n",
        "print(\"Shape of test data is {}\".format(X_test.shape))\n",
        "print('\\n')\n",
        "print(\"Shape of training labels is {}\".format(y_train.shape))\n",
        "print(\"Shape of test labels is {}\".format(y_test.shape))"
      ],
      "execution_count": null,
      "outputs": [
        {
          "output_type": "stream",
          "text": [
            "Shape of training data is (132, 6)\n",
            "Shape of test data is (44, 6)\n",
            "\n",
            "\n",
            "Shape of training labels is (132,)\n",
            "Shape of test labels is (44,)\n"
          ],
          "name": "stdout"
        }
      ]
    },
    {
      "cell_type": "markdown",
      "metadata": {
        "id": "1MWQRRx8YaVw"
      },
      "source": [
        "##### Scaling data using Standard Scaler"
      ]
    },
    {
      "cell_type": "code",
      "metadata": {
        "id": "lBSBo1DpYaVw",
        "outputId": "99eeee15-d785-4206-cbc9-96f4162dbbe8"
      },
      "source": [
        "scaling = StandardScaler() # We already imported from sklearn.preprocessing \n",
        "\n",
        "# As features will be in different scales, we will scale them to bring them to one scale.\n",
        "\n",
        "# There are different scaling techniques, but we use StandardScaler() for scaling the variables, This standardizes feature by subtracting the mean and then scaling to unit variance. \n",
        "\n",
        "scaling.fit(X_train) # we fit X_train data to standard scaler function"
      ],
      "execution_count": null,
      "outputs": [
        {
          "output_type": "execute_result",
          "data": {
            "text/plain": [
              "StandardScaler(copy=True, with_mean=True, with_std=True)"
            ]
          },
          "metadata": {
            "tags": []
          },
          "execution_count": 456
        }
      ]
    },
    {
      "cell_type": "code",
      "metadata": {
        "id": "3uif9wOCYaVx"
      },
      "source": [
        "X_train_scaled = scaling.transform(X_train) \n",
        "\n",
        "# We transform\\scale featues using '.transform' method. All scaled values of x_train will be stored in \"X_train_scaled \" variable.\n",
        "\n",
        "X_test_scaled = scaling.transform(X_test)\n",
        "\n",
        "# All scaled values of x_test will be stored in \"X_test_scaled \" variable."
      ],
      "execution_count": null,
      "outputs": []
    },
    {
      "cell_type": "code",
      "metadata": {
        "id": "DXr8lIgTYaVx",
        "outputId": "625248dd-5c34-4217-f482-3fa193b61c7f"
      },
      "source": [
        "X_train_scaled[0:3] # Checking first 3 elements of X_scaled train data"
      ],
      "execution_count": null,
      "outputs": [
        {
          "output_type": "execute_result",
          "data": {
            "text/plain": [
              "array([[-1.1403603 , -0.96228078, -2.27919666, -0.60210966, -1.57020088,\n",
              "         0.18679429],\n",
              "       [ 1.36015519,  1.25914658,  1.23470033,  1.23455871,  1.47417566,\n",
              "        -0.41526406],\n",
              "       [ 0.58568998,  0.598099  ,  0.51493263,  0.5602812 ,  0.57426561,\n",
              "         1.1263121 ]])"
            ]
          },
          "metadata": {
            "tags": []
          },
          "execution_count": 458
        }
      ]
    },
    {
      "cell_type": "code",
      "metadata": {
        "id": "IPmk7qqSYaVx",
        "outputId": "5c230199-0afd-4b8b-c96b-65e0a5cd0512"
      },
      "source": [
        "X_test_scaled[0:3]  # Checking first 3 elements of X_scaled test data"
      ],
      "execution_count": null,
      "outputs": [
        {
          "output_type": "execute_result",
          "data": {
            "text/plain": [
              "array([[-0.97018633, -0.88541478, -1.30460436, -0.82005795, -1.1216135 ,\n",
              "         0.7786266 ],\n",
              "       [-0.16446467, -0.13212799,  0.08128376, -0.13442896, -0.2846151 ,\n",
              "        -1.47365964],\n",
              "       [ 1.42614102,  1.42825178,  0.54175627,  1.40710111,  1.36202882,\n",
              "        -0.25676038]])"
            ]
          },
          "metadata": {
            "tags": []
          },
          "execution_count": 459
        }
      ]
    },
    {
      "cell_type": "markdown",
      "metadata": {
        "id": "DSp0eY-bYaVy"
      },
      "source": [
        "##### Creating the model"
      ]
    },
    {
      "cell_type": "code",
      "metadata": {
        "id": "13qhC0YfYaVy",
        "outputId": "3b3ea52b-9be2-46dd-ada0-82511c8eb1a9"
      },
      "source": [
        "model = LinearRegression() \n",
        "\n",
        "# We first instantiate the LinearRegression model with default parametersand assign it to variable 'model'.  \n",
        "\n",
        "\n",
        "\n",
        "model.fit(X_train_scaled,y_train) \n",
        "\n",
        "# We Fit model using  X_train_scaled (scaled values) and y_train."
      ],
      "execution_count": null,
      "outputs": [
        {
          "output_type": "execute_result",
          "data": {
            "text/plain": [
              "LinearRegression(copy_X=True, fit_intercept=True, n_jobs=None, normalize=False)"
            ]
          },
          "metadata": {
            "tags": []
          },
          "execution_count": 460
        }
      ]
    },
    {
      "cell_type": "markdown",
      "metadata": {
        "id": "NG6bMg5ZYaVy"
      },
      "source": [
        "####  Checking model parameters\n"
      ]
    },
    {
      "cell_type": "code",
      "metadata": {
        "id": "Ndx16m1nYaVy",
        "outputId": "0a73f3be-4a1a-4c1d-b951-b4a43a817197"
      },
      "source": [
        "model_intercept = model.intercept_ # Assigning value of intercept to variable named 'model_intercept'\n",
        "\n",
        "print(\"The model intercept is: {}\".format(model_intercept)) # Printing model co-efficients."
      ],
      "execution_count": null,
      "outputs": [
        {
          "output_type": "stream",
          "text": [
            "The model intercept is: 5.395159090909093\n"
          ],
          "name": "stdout"
        }
      ]
    },
    {
      "cell_type": "code",
      "metadata": {
        "id": "lGilU0R1YaVz"
      },
      "source": [
        "model_coef_ = np.round(model.coef_,3) \n",
        "\n",
        "# rounding co-efficients of model to 3 decimals using numpy.round function and assigning to variable model_coef_"
      ],
      "execution_count": null,
      "outputs": []
    },
    {
      "cell_type": "code",
      "metadata": {
        "id": "GanuQDvPYaVz",
        "outputId": "eb8d6266-16bc-4fab-c691-5cc5fc81d156"
      },
      "source": [
        "data={'Input Variables': ['Area','Perimeter','Compactness','Length Of Kernel','Width Of Kernel','Asymmetry Coefficient'],\n",
        "       'Model_co-efficients': [model_coef_[0],model_coef_[1],model_coef_[2],model_coef_[3],model_coef_[4],model_coef_[5]]}\n",
        "\n",
        "'''\n",
        "\n",
        "creating a dictionary named \"data\" with keys (input variables, Model_co-efficients) and values (feature names, co-efficients of each feature which we gotby model)\n",
        "\n",
        "to print Input variables and it's co-efficients  in dataframe format. \n",
        "\n",
        "'''"
      ],
      "execution_count": null,
      "outputs": [
        {
          "output_type": "execute_result",
          "data": {
            "text/plain": [
              "'\\n\\ncreating a dictionary named \"data\" with keys (input variables, Model_co-efficients) and values (feature names, co-efficients of each feature which we gotby model)\\n\\nto print Input variables and it\\'s co-efficients  in dataframe format. \\n\\n'"
            ]
          },
          "metadata": {
            "tags": []
          },
          "execution_count": 463
        }
      ]
    },
    {
      "cell_type": "code",
      "metadata": {
        "id": "yyxNaaR7YaVz"
      },
      "source": [
        "co_efficients_df = pd.DataFrame(data) \n",
        "\n",
        "# We use the dictionary \"data\" which we created earlier to print the input variables and it's co-efficients in a tabular form. "
      ],
      "execution_count": null,
      "outputs": []
    },
    {
      "cell_type": "code",
      "metadata": {
        "id": "TPALon41YaV0",
        "outputId": "e188cbf0-2b1a-46fa-8c9b-1811cbe5d15b"
      },
      "source": [
        "co_efficients_df"
      ],
      "execution_count": null,
      "outputs": [
        {
          "output_type": "execute_result",
          "data": {
            "text/html": [
              "<div>\n",
              "<style scoped>\n",
              "    .dataframe tbody tr th:only-of-type {\n",
              "        vertical-align: middle;\n",
              "    }\n",
              "\n",
              "    .dataframe tbody tr th {\n",
              "        vertical-align: top;\n",
              "    }\n",
              "\n",
              "    .dataframe thead th {\n",
              "        text-align: right;\n",
              "    }\n",
              "</style>\n",
              "<table border=\"1\" class=\"dataframe\">\n",
              "  <thead>\n",
              "    <tr style=\"text-align: right;\">\n",
              "      <th></th>\n",
              "      <th>Input Variables</th>\n",
              "      <th>Model_co-efficients</th>\n",
              "    </tr>\n",
              "  </thead>\n",
              "  <tbody>\n",
              "    <tr>\n",
              "      <th>0</th>\n",
              "      <td>Area</td>\n",
              "      <td>1.225</td>\n",
              "    </tr>\n",
              "    <tr>\n",
              "      <th>1</th>\n",
              "      <td>Perimeter</td>\n",
              "      <td>-0.685</td>\n",
              "    </tr>\n",
              "    <tr>\n",
              "      <th>2</th>\n",
              "      <td>Compactness</td>\n",
              "      <td>-0.104</td>\n",
              "    </tr>\n",
              "    <tr>\n",
              "      <th>3</th>\n",
              "      <td>Length Of Kernel</td>\n",
              "      <td>0.283</td>\n",
              "    </tr>\n",
              "    <tr>\n",
              "      <th>4</th>\n",
              "      <td>Width Of Kernel</td>\n",
              "      <td>-0.325</td>\n",
              "    </tr>\n",
              "    <tr>\n",
              "      <th>5</th>\n",
              "      <td>Asymmetry Coefficient</td>\n",
              "      <td>0.058</td>\n",
              "    </tr>\n",
              "  </tbody>\n",
              "</table>\n",
              "</div>"
            ],
            "text/plain": [
              "         Input Variables  Model_co-efficients\n",
              "0                   Area                1.225\n",
              "1              Perimeter               -0.685\n",
              "2            Compactness               -0.104\n",
              "3       Length Of Kernel                0.283\n",
              "4        Width Of Kernel               -0.325\n",
              "5  Asymmetry Coefficient                0.058"
            ]
          },
          "metadata": {
            "tags": []
          },
          "execution_count": 465
        }
      ]
    },
    {
      "cell_type": "code",
      "metadata": {
        "id": "cOwBA8lJYaV0"
      },
      "source": [
        ""
      ],
      "execution_count": null,
      "outputs": []
    },
    {
      "cell_type": "markdown",
      "metadata": {
        "id": "vlwVVYkMYaV0"
      },
      "source": [
        "##### Evaluating the model on the train and test sets"
      ]
    },
    {
      "cell_type": "code",
      "metadata": {
        "id": "wCUwajDqYaV0"
      },
      "source": [
        "y_pred = model.predict(X_test_scaled) # 'predict' method, predicts the values of scaled X_test using linear model.\n",
        "\n",
        "#print(\"The predicted values of model {}\".format(y_pred))"
      ],
      "execution_count": null,
      "outputs": []
    },
    {
      "cell_type": "code",
      "metadata": {
        "id": "_eJBslrQYaV1",
        "outputId": "0cd04d08-19f1-4246-edaa-4e3ad935b85b"
      },
      "source": [
        "print(y_pred) # Checking predicted values"
      ],
      "execution_count": null,
      "outputs": [
        {
          "output_type": "stream",
          "text": [
            "[5.1262267  5.24413929 6.04899535 5.94718544 5.75596691 5.35559632\n",
            " 4.82013892 6.48800905 5.74826887 6.3377064  5.90576682 5.27577736\n",
            " 5.10152402 5.31094069 5.18705772 5.23999161 5.23299823 5.80599662\n",
            " 4.97272321 5.25623613 5.91745018 4.77590744 4.97971362 5.06038864\n",
            " 4.75703274 5.0255435  5.34761218 4.96248131 5.63490638 6.10226492\n",
            " 5.22773563 5.18899435 4.73960687 6.31981287 5.0552103  4.82404564\n",
            " 6.17730384 5.86825082 5.55927662 5.07256337 5.43187553 6.4992608\n",
            " 5.49519096 4.79417967]\n"
          ],
          "name": "stdout"
        }
      ]
    },
    {
      "cell_type": "code",
      "metadata": {
        "id": "AW4BfAoXYaV1"
      },
      "source": [
        ""
      ],
      "execution_count": null,
      "outputs": []
    },
    {
      "cell_type": "markdown",
      "metadata": {
        "id": "UWE5BI_8YaV1"
      },
      "source": [
        "##### $R^2$ value for train and test"
      ]
    },
    {
      "cell_type": "code",
      "metadata": {
        "id": "CtDVTd_tYaV1"
      },
      "source": [
        "R2_train = model.score(X_train_scaled,y_train)  # We check R^2 score for training data and store in a variable 'R2_train'\n",
        "\n",
        "# 'score()' method takes 2 arguments and returns co-efficient of determination R^2 values of the prediction.\n",
        "\n",
        "R2_test = model.score(X_test_scaled,y_test) # We check R^2 score for test data and store in a variable 'R2_test'\n",
        "\n",
        "# In general, R^2 values tells that how much of total variation in Target variable is explained by Explanatory variables."
      ],
      "execution_count": null,
      "outputs": []
    },
    {
      "cell_type": "code",
      "metadata": {
        "id": "ympOyHvBYaV1",
        "outputId": "ef379fbf-867f-4242-f39e-5d235fee5034"
      },
      "source": [
        "print(\"R^2 value for Training set accuracy: {:.2f} %\".format(R2_train*100)) # Printing Training accuracy (R^2) value of training set.\n",
        "\n",
        "\n",
        "print(\"R^2 value for Testing set accuracy: {:.2f} %\".format(R2_test*100)) # Printing Testing accuracy (R^2) value of test set.\n",
        "\n"
      ],
      "execution_count": null,
      "outputs": [
        {
          "output_type": "stream",
          "text": [
            "R^2 value for Training set accuracy: 92.06 %\n",
            "R^2 value for Testing set accuracy: 93.47 %\n"
          ],
          "name": "stdout"
        }
      ]
    },
    {
      "cell_type": "code",
      "metadata": {
        "id": "Ou4WPPGpYaV2",
        "outputId": "c705752e-4ae6-412b-c8da-efac25270e28"
      },
      "source": [
        "# Cross checking r2 _score using 'r2_score' function\n",
        "\n",
        "from sklearn.metrics import r2_score\n",
        "\n",
        "R2_method_2 = r2_score(y_test, y_pred) #r2_score takes arguments (true values, predicted values)\n",
        "R2_method_2 \n",
        "\n"
      ],
      "execution_count": null,
      "outputs": [
        {
          "output_type": "execute_result",
          "data": {
            "text/plain": [
              "0.911415673068204"
            ]
          },
          "metadata": {
            "tags": []
          },
          "execution_count": 376
        }
      ]
    },
    {
      "cell_type": "markdown",
      "metadata": {
        "id": "5NkbPjLbYaV2"
      },
      "source": [
        "### Step 7 : Use the model you created in *Step 6* to predict the missing values in *Dataframe 1*\n",
        "    - At the end of this step, *Dataframe 1* will have the `nan` values replaced with the predictions from the model you created in *Step 6*\n"
      ]
    },
    {
      "cell_type": "code",
      "metadata": {
        "id": "2J0Jot1OYaV3",
        "outputId": "239164b6-54c5-4209-98af-0577f325dec0"
      },
      "source": [
        "# Code reference : https://stackoverflow.com/questions/44097633/imputing-missing-values-using-a-linear-regression-in-python\n",
        "\n",
        "\n",
        "\n",
        "\n",
        "df1['Length Of Kernel Groove']= df1.apply(lambda x: \n",
        "                                         model_coef_[0]*x['Area']+model_coef_[1]*x['Perimeter'] +model_coef_[2]*x['Compactness']+model_coef_[3]*x['Length Of Kernel']+model_coef_[4]*x['Width Of Kernel'] +model_coef_[5]*x['Asymmetry Coefficient'] + model_intercept\n",
        "                                          if np.isnan(x['Length Of Kernel Groove']) else x['Length Of Kernel Groove'],axis=1)\n",
        "\n",
        "\n",
        "\n",
        "# Working of the lambda function which we used above:\n",
        "\n",
        "''' \n",
        "First it checks for condition \"if np.isnan(x['Length Of Kernel Groove'])\" \n",
        "if this condition turns out to be true,(It will be true if it has NaN values in record of that particular column). \n",
        "\n",
        "If condition is true, it replaces 'NaN' with the linear model which we predicted using dataframe 2, we use same model parameters.\n",
        "\n",
        "i.e. \n",
        "\n",
        "y_predicted = model_coef_[0]*x['Area']+model_coef_[1]*x['Perimeter'] +model_coef_[2]*x['Compactness']+model_coef_[3]*x['Length Of Kernel']+model_coef_[4]*x['Width Of Kernel'] +model_coef_[5]*x['Asymmetry Coefficient'] + model_intercept\n",
        "\n",
        "(it is of the form y_cap = intercept + m1*X1 = m2*X2 + m3*X3 ...+ m5*X5).\n",
        "\n",
        ".apply() will apply the lambda function to the target column of dataframe df1.\n",
        "\n",
        "'''\n",
        "\n",
        "\n",
        "\n",
        "\n",
        "\n",
        "# We use lambda function for replacing NaN values in dataframe df1. It is quite easy and most powerful function which can be used inpython programming.\n",
        "\n",
        "# Lamdba functions are also called Anonymous functions. "
      ],
      "execution_count": null,
      "outputs": [
        {
          "output_type": "stream",
          "text": [
            "C:\\Users\\Charan\\.conda\\envs\\DAB200\\lib\\site-packages\\ipykernel_launcher.py:8: SettingWithCopyWarning: \n",
            "A value is trying to be set on a copy of a slice from a DataFrame.\n",
            "Try using .loc[row_indexer,col_indexer] = value instead\n",
            "\n",
            "See the caveats in the documentation: https://pandas.pydata.org/pandas-docs/stable/user_guide/indexing.html#returning-a-view-versus-a-copy\n",
            "  \n"
          ],
          "name": "stderr"
        },
        {
          "output_type": "execute_result",
          "data": {
            "text/plain": [
              "' \\nFirst it checks for condition \"if np.isnan(x[\\'Length Of Kernel Groove\\'])\" \\nif this condition turns out to be true,(It will be true if it has NaN values in record of that particular column). \\n\\nIf condition is true, it replaces \\'NaN\\' with the linear model which we predicted using dataframe 2, we use same model parameters.\\n\\ni.e. \\n\\ny_predicted = model_coef_[0]*x[\\'Area\\']+model_coef_[1]*x[\\'Perimeter\\'] +model_coef_[2]*x[\\'Compactness\\']+model_coef_[3]*x[\\'Length Of Kernel\\']+model_coef_[4]*x[\\'Width Of Kernel\\'] +model_coef_[5]*x[\\'Asymmetry Coefficient\\'] + model_intercept\\n\\n(it is of the form y_cap = intercept + m1*X1 = m2*X2 + m3*X3 ...+ m5*X5).\\n\\n.apply() will apply the lambda function to the target column of dataframe df1.\\n\\n'"
            ]
          },
          "metadata": {
            "tags": []
          },
          "execution_count": 377
        }
      ]
    },
    {
      "cell_type": "code",
      "metadata": {
        "id": "f1tgfB9bYaV3",
        "outputId": "ff1cd7e2-5888-431d-f6c3-45c6d3b50356"
      },
      "source": [
        "df1 # Checking the dataframe df1 after imputing missing values using Linear model."
      ],
      "execution_count": null,
      "outputs": [
        {
          "output_type": "execute_result",
          "data": {
            "text/html": [
              "<div>\n",
              "<style scoped>\n",
              "    .dataframe tbody tr th:only-of-type {\n",
              "        vertical-align: middle;\n",
              "    }\n",
              "\n",
              "    .dataframe tbody tr th {\n",
              "        vertical-align: top;\n",
              "    }\n",
              "\n",
              "    .dataframe thead th {\n",
              "        text-align: right;\n",
              "    }\n",
              "</style>\n",
              "<table border=\"1\" class=\"dataframe\">\n",
              "  <thead>\n",
              "    <tr style=\"text-align: right;\">\n",
              "      <th></th>\n",
              "      <th>Area</th>\n",
              "      <th>Perimeter</th>\n",
              "      <th>Compactness</th>\n",
              "      <th>Length Of Kernel</th>\n",
              "      <th>Width Of Kernel</th>\n",
              "      <th>Asymmetry Coefficient</th>\n",
              "      <th>Length Of Kernel Groove</th>\n",
              "    </tr>\n",
              "  </thead>\n",
              "  <tbody>\n",
              "    <tr>\n",
              "      <th>5</th>\n",
              "      <td>14.38</td>\n",
              "      <td>14.21</td>\n",
              "      <td>0.8951</td>\n",
              "      <td>5.386</td>\n",
              "      <td>3.312</td>\n",
              "      <td>2.4620</td>\n",
              "      <td>11.726548</td>\n",
              "    </tr>\n",
              "    <tr>\n",
              "      <th>13</th>\n",
              "      <td>13.78</td>\n",
              "      <td>14.06</td>\n",
              "      <td>0.8759</td>\n",
              "      <td>5.479</td>\n",
              "      <td>3.156</td>\n",
              "      <td>3.1360</td>\n",
              "      <td>11.259294</td>\n",
              "    </tr>\n",
              "    <tr>\n",
              "      <th>20</th>\n",
              "      <td>14.16</td>\n",
              "      <td>14.40</td>\n",
              "      <td>0.8584</td>\n",
              "      <td>5.658</td>\n",
              "      <td>3.129</td>\n",
              "      <td>3.0720</td>\n",
              "      <td>11.477690</td>\n",
              "    </tr>\n",
              "    <tr>\n",
              "      <th>22</th>\n",
              "      <td>15.88</td>\n",
              "      <td>14.90</td>\n",
              "      <td>0.8988</td>\n",
              "      <td>5.618</td>\n",
              "      <td>3.507</td>\n",
              "      <td>0.7651</td>\n",
              "      <td>12.823882</td>\n",
              "    </tr>\n",
              "    <tr>\n",
              "      <th>25</th>\n",
              "      <td>16.19</td>\n",
              "      <td>15.16</td>\n",
              "      <td>0.8849</td>\n",
              "      <td>5.833</td>\n",
              "      <td>3.421</td>\n",
              "      <td>0.9030</td>\n",
              "      <td>13.052192</td>\n",
              "    </tr>\n",
              "    <tr>\n",
              "      <th>27</th>\n",
              "      <td>12.74</td>\n",
              "      <td>13.67</td>\n",
              "      <td>0.8564</td>\n",
              "      <td>5.395</td>\n",
              "      <td>2.956</td>\n",
              "      <td>2.5040</td>\n",
              "      <td>10.375998</td>\n",
              "    </tr>\n",
              "    <tr>\n",
              "      <th>39</th>\n",
              "      <td>14.28</td>\n",
              "      <td>14.17</td>\n",
              "      <td>0.8944</td>\n",
              "      <td>5.397</td>\n",
              "      <td>3.298</td>\n",
              "      <td>6.6850</td>\n",
              "      <td>11.858357</td>\n",
              "    </tr>\n",
              "    <tr>\n",
              "      <th>48</th>\n",
              "      <td>14.79</td>\n",
              "      <td>14.52</td>\n",
              "      <td>0.8819</td>\n",
              "      <td>5.545</td>\n",
              "      <td>3.291</td>\n",
              "      <td>2.7040</td>\n",
              "      <td>12.008386</td>\n",
              "    </tr>\n",
              "    <tr>\n",
              "      <th>50</th>\n",
              "      <td>14.43</td>\n",
              "      <td>14.40</td>\n",
              "      <td>0.8751</td>\n",
              "      <td>5.585</td>\n",
              "      <td>3.272</td>\n",
              "      <td>3.9750</td>\n",
              "      <td>11.779465</td>\n",
              "    </tr>\n",
              "    <tr>\n",
              "      <th>53</th>\n",
              "      <td>14.33</td>\n",
              "      <td>14.28</td>\n",
              "      <td>0.8831</td>\n",
              "      <td>5.504</td>\n",
              "      <td>3.199</td>\n",
              "      <td>3.3280</td>\n",
              "      <td>11.710652</td>\n",
              "    </tr>\n",
              "    <tr>\n",
              "      <th>62</th>\n",
              "      <td>12.36</td>\n",
              "      <td>13.19</td>\n",
              "      <td>0.8923</td>\n",
              "      <td>5.076</td>\n",
              "      <td>3.042</td>\n",
              "      <td>3.2200</td>\n",
              "      <td>10.243960</td>\n",
              "    </tr>\n",
              "    <tr>\n",
              "      <th>63</th>\n",
              "      <td>13.22</td>\n",
              "      <td>13.84</td>\n",
              "      <td>0.8680</td>\n",
              "      <td>5.395</td>\n",
              "      <td>3.070</td>\n",
              "      <td>4.1570</td>\n",
              "      <td>10.843485</td>\n",
              "    </tr>\n",
              "    <tr>\n",
              "      <th>66</th>\n",
              "      <td>14.34</td>\n",
              "      <td>14.37</td>\n",
              "      <td>0.8726</td>\n",
              "      <td>5.630</td>\n",
              "      <td>3.190</td>\n",
              "      <td>1.3130</td>\n",
              "      <td>11.595364</td>\n",
              "    </tr>\n",
              "    <tr>\n",
              "      <th>67</th>\n",
              "      <td>14.01</td>\n",
              "      <td>14.29</td>\n",
              "      <td>0.8625</td>\n",
              "      <td>5.609</td>\n",
              "      <td>3.158</td>\n",
              "      <td>2.2170</td>\n",
              "      <td>11.334968</td>\n",
              "    </tr>\n",
              "    <tr>\n",
              "      <th>79</th>\n",
              "      <td>17.12</td>\n",
              "      <td>15.55</td>\n",
              "      <td>0.8892</td>\n",
              "      <td>5.850</td>\n",
              "      <td>3.566</td>\n",
              "      <td>2.8580</td>\n",
              "      <td>13.867484</td>\n",
              "    </tr>\n",
              "    <tr>\n",
              "      <th>80</th>\n",
              "      <td>16.53</td>\n",
              "      <td>15.34</td>\n",
              "      <td>0.8823</td>\n",
              "      <td>5.875</td>\n",
              "      <td>3.467</td>\n",
              "      <td>5.5320</td>\n",
              "      <td>13.525928</td>\n",
              "    </tr>\n",
              "    <tr>\n",
              "      <th>85</th>\n",
              "      <td>18.27</td>\n",
              "      <td>16.09</td>\n",
              "      <td>0.8870</td>\n",
              "      <td>6.173</td>\n",
              "      <td>3.651</td>\n",
              "      <td>2.4430</td>\n",
              "      <td>14.795364</td>\n",
              "    </tr>\n",
              "    <tr>\n",
              "      <th>88</th>\n",
              "      <td>21.18</td>\n",
              "      <td>17.21</td>\n",
              "      <td>0.8989</td>\n",
              "      <td>6.573</td>\n",
              "      <td>4.033</td>\n",
              "      <td>5.7800</td>\n",
              "      <td>17.398455</td>\n",
              "    </tr>\n",
              "    <tr>\n",
              "      <th>97</th>\n",
              "      <td>18.98</td>\n",
              "      <td>16.57</td>\n",
              "      <td>0.8687</td>\n",
              "      <td>6.449</td>\n",
              "      <td>3.552</td>\n",
              "      <td>2.1440</td>\n",
              "      <td>15.297606</td>\n",
              "    </tr>\n",
              "    <tr>\n",
              "      <th>100</th>\n",
              "      <td>16.41</td>\n",
              "      <td>15.25</td>\n",
              "      <td>0.8866</td>\n",
              "      <td>5.718</td>\n",
              "      <td>3.525</td>\n",
              "      <td>4.2170</td>\n",
              "      <td>13.343000</td>\n",
              "    </tr>\n",
              "    <tr>\n",
              "      <th>105</th>\n",
              "      <td>18.83</td>\n",
              "      <td>16.29</td>\n",
              "      <td>0.8917</td>\n",
              "      <td>6.037</td>\n",
              "      <td>3.786</td>\n",
              "      <td>2.5530</td>\n",
              "      <td>15.210922</td>\n",
              "    </tr>\n",
              "    <tr>\n",
              "      <th>108</th>\n",
              "      <td>19.94</td>\n",
              "      <td>16.92</td>\n",
              "      <td>0.8752</td>\n",
              "      <td>6.675</td>\n",
              "      <td>3.763</td>\n",
              "      <td>3.2520</td>\n",
              "      <td>16.189890</td>\n",
              "    </tr>\n",
              "    <tr>\n",
              "      <th>116</th>\n",
              "      <td>18.96</td>\n",
              "      <td>16.20</td>\n",
              "      <td>0.9077</td>\n",
              "      <td>6.051</td>\n",
              "      <td>3.897</td>\n",
              "      <td>4.3340</td>\n",
              "      <td>15.499121</td>\n",
              "    </tr>\n",
              "    <tr>\n",
              "      <th>119</th>\n",
              "      <td>20.03</td>\n",
              "      <td>16.90</td>\n",
              "      <td>0.8811</td>\n",
              "      <td>6.493</td>\n",
              "      <td>3.857</td>\n",
              "      <td>3.0630</td>\n",
              "      <td>16.229177</td>\n",
              "    </tr>\n",
              "    <tr>\n",
              "      <th>120</th>\n",
              "      <td>20.24</td>\n",
              "      <td>16.91</td>\n",
              "      <td>0.8897</td>\n",
              "      <td>6.315</td>\n",
              "      <td>3.962</td>\n",
              "      <td>5.9010</td>\n",
              "      <td>16.526044</td>\n",
              "    </tr>\n",
              "    <tr>\n",
              "      <th>126</th>\n",
              "      <td>18.65</td>\n",
              "      <td>16.41</td>\n",
              "      <td>0.8698</td>\n",
              "      <td>6.285</td>\n",
              "      <td>3.594</td>\n",
              "      <td>4.3910</td>\n",
              "      <td>15.110656</td>\n",
              "    </tr>\n",
              "    <tr>\n",
              "      <th>143</th>\n",
              "      <td>12.22</td>\n",
              "      <td>13.32</td>\n",
              "      <td>0.8652</td>\n",
              "      <td>5.224</td>\n",
              "      <td>2.967</td>\n",
              "      <td>5.4690</td>\n",
              "      <td>10.158453</td>\n",
              "    </tr>\n",
              "    <tr>\n",
              "      <th>150</th>\n",
              "      <td>11.83</td>\n",
              "      <td>13.23</td>\n",
              "      <td>0.8496</td>\n",
              "      <td>5.263</td>\n",
              "      <td>2.840</td>\n",
              "      <td>5.1950</td>\n",
              "      <td>9.811087</td>\n",
              "    </tr>\n",
              "    <tr>\n",
              "      <th>154</th>\n",
              "      <td>11.36</td>\n",
              "      <td>13.05</td>\n",
              "      <td>0.8382</td>\n",
              "      <td>5.175</td>\n",
              "      <td>2.755</td>\n",
              "      <td>4.0480</td>\n",
              "      <td>9.357389</td>\n",
              "    </tr>\n",
              "    <tr>\n",
              "      <th>156</th>\n",
              "      <td>11.34</td>\n",
              "      <td>12.87</td>\n",
              "      <td>0.8596</td>\n",
              "      <td>5.053</td>\n",
              "      <td>2.849</td>\n",
              "      <td>3.3470</td>\n",
              "      <td>9.386715</td>\n",
              "    </tr>\n",
              "    <tr>\n",
              "      <th>165</th>\n",
              "      <td>12.10</td>\n",
              "      <td>13.15</td>\n",
              "      <td>0.8793</td>\n",
              "      <td>5.105</td>\n",
              "      <td>2.941</td>\n",
              "      <td>2.2010</td>\n",
              "      <td>9.959394</td>\n",
              "    </tr>\n",
              "    <tr>\n",
              "      <th>167</th>\n",
              "      <td>12.15</td>\n",
              "      <td>13.45</td>\n",
              "      <td>0.8443</td>\n",
              "      <td>5.417</td>\n",
              "      <td>2.837</td>\n",
              "      <td>3.6380</td>\n",
              "      <td>9.968772</td>\n",
              "    </tr>\n",
              "    <tr>\n",
              "      <th>172</th>\n",
              "      <td>11.27</td>\n",
              "      <td>12.97</td>\n",
              "      <td>0.8419</td>\n",
              "      <td>5.088</td>\n",
              "      <td>2.763</td>\n",
              "      <td>4.3090</td>\n",
              "      <td>9.303831</td>\n",
              "    </tr>\n",
              "    <tr>\n",
              "      <th>174</th>\n",
              "      <td>10.83</td>\n",
              "      <td>12.96</td>\n",
              "      <td>0.8099</td>\n",
              "      <td>5.278</td>\n",
              "      <td>2.641</td>\n",
              "      <td>5.1820</td>\n",
              "      <td>8.944448</td>\n",
              "    </tr>\n",
              "    <tr>\n",
              "      <th>179</th>\n",
              "      <td>12.21</td>\n",
              "      <td>13.47</td>\n",
              "      <td>0.8453</td>\n",
              "      <td>5.357</td>\n",
              "      <td>2.893</td>\n",
              "      <td>1.6610</td>\n",
              "      <td>9.898644</td>\n",
              "    </tr>\n",
              "    <tr>\n",
              "      <th>194</th>\n",
              "      <td>12.11</td>\n",
              "      <td>13.27</td>\n",
              "      <td>0.8639</td>\n",
              "      <td>5.236</td>\n",
              "      <td>2.975</td>\n",
              "      <td>4.1320</td>\n",
              "      <td>10.012348</td>\n",
              "    </tr>\n",
              "    <tr>\n",
              "      <th>196</th>\n",
              "      <td>12.79</td>\n",
              "      <td>13.53</td>\n",
              "      <td>0.8786</td>\n",
              "      <td>5.224</td>\n",
              "      <td>3.054</td>\n",
              "      <td>5.4830</td>\n",
              "      <td>10.617324</td>\n",
              "    </tr>\n",
              "    <tr>\n",
              "      <th>197</th>\n",
              "      <td>13.37</td>\n",
              "      <td>13.78</td>\n",
              "      <td>0.8849</td>\n",
              "      <td>5.320</td>\n",
              "      <td>3.128</td>\n",
              "      <td>4.6700</td>\n",
              "      <td>11.047865</td>\n",
              "    </tr>\n",
              "    <tr>\n",
              "      <th>200</th>\n",
              "      <td>12.38</td>\n",
              "      <td>13.44</td>\n",
              "      <td>0.8609</td>\n",
              "      <td>5.219</td>\n",
              "      <td>2.989</td>\n",
              "      <td>5.4720</td>\n",
              "      <td>10.241113</td>\n",
              "    </tr>\n",
              "    <tr>\n",
              "      <th>208</th>\n",
              "      <td>11.84</td>\n",
              "      <td>13.21</td>\n",
              "      <td>0.8521</td>\n",
              "      <td>5.175</td>\n",
              "      <td>2.836</td>\n",
              "      <td>3.5980</td>\n",
              "      <td>9.732637</td>\n",
              "    </tr>\n",
              "  </tbody>\n",
              "</table>\n",
              "</div>"
            ],
            "text/plain": [
              "      Area  Perimeter  Compactness  Length Of Kernel  Width Of Kernel  \\\n",
              "5    14.38      14.21       0.8951             5.386            3.312   \n",
              "13   13.78      14.06       0.8759             5.479            3.156   \n",
              "20   14.16      14.40       0.8584             5.658            3.129   \n",
              "22   15.88      14.90       0.8988             5.618            3.507   \n",
              "25   16.19      15.16       0.8849             5.833            3.421   \n",
              "27   12.74      13.67       0.8564             5.395            2.956   \n",
              "39   14.28      14.17       0.8944             5.397            3.298   \n",
              "48   14.79      14.52       0.8819             5.545            3.291   \n",
              "50   14.43      14.40       0.8751             5.585            3.272   \n",
              "53   14.33      14.28       0.8831             5.504            3.199   \n",
              "62   12.36      13.19       0.8923             5.076            3.042   \n",
              "63   13.22      13.84       0.8680             5.395            3.070   \n",
              "66   14.34      14.37       0.8726             5.630            3.190   \n",
              "67   14.01      14.29       0.8625             5.609            3.158   \n",
              "79   17.12      15.55       0.8892             5.850            3.566   \n",
              "80   16.53      15.34       0.8823             5.875            3.467   \n",
              "85   18.27      16.09       0.8870             6.173            3.651   \n",
              "88   21.18      17.21       0.8989             6.573            4.033   \n",
              "97   18.98      16.57       0.8687             6.449            3.552   \n",
              "100  16.41      15.25       0.8866             5.718            3.525   \n",
              "105  18.83      16.29       0.8917             6.037            3.786   \n",
              "108  19.94      16.92       0.8752             6.675            3.763   \n",
              "116  18.96      16.20       0.9077             6.051            3.897   \n",
              "119  20.03      16.90       0.8811             6.493            3.857   \n",
              "120  20.24      16.91       0.8897             6.315            3.962   \n",
              "126  18.65      16.41       0.8698             6.285            3.594   \n",
              "143  12.22      13.32       0.8652             5.224            2.967   \n",
              "150  11.83      13.23       0.8496             5.263            2.840   \n",
              "154  11.36      13.05       0.8382             5.175            2.755   \n",
              "156  11.34      12.87       0.8596             5.053            2.849   \n",
              "165  12.10      13.15       0.8793             5.105            2.941   \n",
              "167  12.15      13.45       0.8443             5.417            2.837   \n",
              "172  11.27      12.97       0.8419             5.088            2.763   \n",
              "174  10.83      12.96       0.8099             5.278            2.641   \n",
              "179  12.21      13.47       0.8453             5.357            2.893   \n",
              "194  12.11      13.27       0.8639             5.236            2.975   \n",
              "196  12.79      13.53       0.8786             5.224            3.054   \n",
              "197  13.37      13.78       0.8849             5.320            3.128   \n",
              "200  12.38      13.44       0.8609             5.219            2.989   \n",
              "208  11.84      13.21       0.8521             5.175            2.836   \n",
              "\n",
              "     Asymmetry Coefficient  Length Of Kernel Groove  \n",
              "5                   2.4620                11.726548  \n",
              "13                  3.1360                11.259294  \n",
              "20                  3.0720                11.477690  \n",
              "22                  0.7651                12.823882  \n",
              "25                  0.9030                13.052192  \n",
              "27                  2.5040                10.375998  \n",
              "39                  6.6850                11.858357  \n",
              "48                  2.7040                12.008386  \n",
              "50                  3.9750                11.779465  \n",
              "53                  3.3280                11.710652  \n",
              "62                  3.2200                10.243960  \n",
              "63                  4.1570                10.843485  \n",
              "66                  1.3130                11.595364  \n",
              "67                  2.2170                11.334968  \n",
              "79                  2.8580                13.867484  \n",
              "80                  5.5320                13.525928  \n",
              "85                  2.4430                14.795364  \n",
              "88                  5.7800                17.398455  \n",
              "97                  2.1440                15.297606  \n",
              "100                 4.2170                13.343000  \n",
              "105                 2.5530                15.210922  \n",
              "108                 3.2520                16.189890  \n",
              "116                 4.3340                15.499121  \n",
              "119                 3.0630                16.229177  \n",
              "120                 5.9010                16.526044  \n",
              "126                 4.3910                15.110656  \n",
              "143                 5.4690                10.158453  \n",
              "150                 5.1950                 9.811087  \n",
              "154                 4.0480                 9.357389  \n",
              "156                 3.3470                 9.386715  \n",
              "165                 2.2010                 9.959394  \n",
              "167                 3.6380                 9.968772  \n",
              "172                 4.3090                 9.303831  \n",
              "174                 5.1820                 8.944448  \n",
              "179                 1.6610                 9.898644  \n",
              "194                 4.1320                10.012348  \n",
              "196                 5.4830                10.617324  \n",
              "197                 4.6700                11.047865  \n",
              "200                 5.4720                10.241113  \n",
              "208                 3.5980                 9.732637  "
            ]
          },
          "metadata": {
            "tags": []
          },
          "execution_count": 378
        }
      ]
    },
    {
      "cell_type": "code",
      "metadata": {
        "id": "darx2puJYaV4",
        "outputId": "c4abc95a-7163-4697-b7fc-bd0656857f06"
      },
      "source": [
        "df1.isnull().sum()\n",
        "\n",
        "# After performing imputation, i tried to see null values and found that no-null values are present in dataframe 1."
      ],
      "execution_count": null,
      "outputs": [
        {
          "output_type": "execute_result",
          "data": {
            "text/plain": [
              "Area                       0\n",
              "Perimeter                  0\n",
              "Compactness                0\n",
              "Length Of Kernel           0\n",
              "Width Of Kernel            0\n",
              "Asymmetry Coefficient      0\n",
              "Length Of Kernel Groove    0\n",
              "dtype: int64"
            ]
          },
          "metadata": {
            "tags": []
          },
          "execution_count": 379
        }
      ]
    },
    {
      "cell_type": "code",
      "metadata": {
        "id": "z-WKbvuvYaV4"
      },
      "source": [
        ""
      ],
      "execution_count": null,
      "outputs": []
    },
    {
      "cell_type": "markdown",
      "metadata": {
        "id": "-WjifxMJYaV4"
      },
      "source": [
        "### Step 8 : Create a final dataframe by combining *Dataframe 1* and *Dataframe 2*\n",
        "\n",
        "             - \"final_df\" should have same dimensions as dataframe \"df\""
      ]
    },
    {
      "cell_type": "code",
      "metadata": {
        "id": "W5Ur4RX6YaV5"
      },
      "source": [
        "final_df = pd.concat([df1,df2]) \n",
        "\n",
        "# pd.concat() combines 2 dataframes with equal number of columns.\n"
      ],
      "execution_count": null,
      "outputs": []
    },
    {
      "cell_type": "code",
      "metadata": {
        "id": "RaIpXEx3YaV5",
        "outputId": "2d37bc93-0682-4bbe-a2a7-b8b47fbc2376"
      },
      "source": [
        "print('The Dimensions of Final dataframe after combining df1 and df2 is : {}'.format(final_df.shape))\n",
        "print('\\n')\n",
        "print('The Dimensions of Original dataframe when we loaded is {}'.format(df_original.shape))"
      ],
      "execution_count": null,
      "outputs": [
        {
          "output_type": "stream",
          "text": [
            "The Dimensions of Final dataframe after combining df1 and df2 is : (210, 7)\n",
            "\n",
            "\n",
            "The Dimensions of Original dataframe when we loaded is (210, 7)\n"
          ],
          "name": "stdout"
        }
      ]
    },
    {
      "cell_type": "code",
      "metadata": {
        "id": "LyhK1ZfiYaV6"
      },
      "source": [
        "# cor=final_df.corr()\n",
        "# cor"
      ],
      "execution_count": null,
      "outputs": []
    },
    {
      "cell_type": "code",
      "metadata": {
        "id": "gOM4TqyHYaV6"
      },
      "source": [
        "# cor['Length Of Kernel Groove'][abs(cor['Length Of Kernel Groove']) > 0.1 ]"
      ],
      "execution_count": null,
      "outputs": []
    },
    {
      "cell_type": "code",
      "metadata": {
        "id": "aBXw13C3YaV6",
        "outputId": "7e7cbc96-efc9-4ee0-d0e8-67bc3e90465f"
      },
      "source": [
        "print(final_df.head(20)) # WIll display top 20 records of final dataframe after combining dataframes 1 and 2.\n",
        "\n",
        "'''\n",
        "\n",
        "As we concatenated 2 dataframes to one dataframe \"final_df\", the index is not in sorted manner. \n",
        "\n",
        "Hence we will sort the index first.\n",
        "\n",
        "Also we dont have original target variable in final_df, we need to add that original Target variable \"Seed type\" as well.\n",
        "\n",
        "'''\n",
        "\n"
      ],
      "execution_count": null,
      "outputs": [
        {
          "output_type": "stream",
          "text": [
            "      Area  Perimeter  Compactness  Length Of Kernel  Width Of Kernel  \\\n",
            "5    14.38      14.21       0.8951             5.386            3.312   \n",
            "13   13.78      14.06       0.8759             5.479            3.156   \n",
            "20   14.16      14.40       0.8584             5.658            3.129   \n",
            "22   15.88      14.90       0.8988             5.618            3.507   \n",
            "25   16.19      15.16       0.8849             5.833            3.421   \n",
            "27   12.74      13.67       0.8564             5.395            2.956   \n",
            "39   14.28      14.17       0.8944             5.397            3.298   \n",
            "48   14.79      14.52       0.8819             5.545            3.291   \n",
            "50   14.43      14.40       0.8751             5.585            3.272   \n",
            "53   14.33      14.28       0.8831             5.504            3.199   \n",
            "62   12.36      13.19       0.8923             5.076            3.042   \n",
            "63   13.22      13.84       0.8680             5.395            3.070   \n",
            "66   14.34      14.37       0.8726             5.630            3.190   \n",
            "67   14.01      14.29       0.8625             5.609            3.158   \n",
            "79   17.12      15.55       0.8892             5.850            3.566   \n",
            "80   16.53      15.34       0.8823             5.875            3.467   \n",
            "85   18.27      16.09       0.8870             6.173            3.651   \n",
            "88   21.18      17.21       0.8989             6.573            4.033   \n",
            "97   18.98      16.57       0.8687             6.449            3.552   \n",
            "100  16.41      15.25       0.8866             5.718            3.525   \n",
            "\n",
            "     Asymmetry Coefficient  Length Of Kernel Groove  \n",
            "5                   2.4620                11.726548  \n",
            "13                  3.1360                11.259294  \n",
            "20                  3.0720                11.477690  \n",
            "22                  0.7651                12.823882  \n",
            "25                  0.9030                13.052192  \n",
            "27                  2.5040                10.375998  \n",
            "39                  6.6850                11.858357  \n",
            "48                  2.7040                12.008386  \n",
            "50                  3.9750                11.779465  \n",
            "53                  3.3280                11.710652  \n",
            "62                  3.2200                10.243960  \n",
            "63                  4.1570                10.843485  \n",
            "66                  1.3130                11.595364  \n",
            "67                  2.2170                11.334968  \n",
            "79                  2.8580                13.867484  \n",
            "80                  5.5320                13.525928  \n",
            "85                  2.4430                14.795364  \n",
            "88                  5.7800                17.398455  \n",
            "97                  2.1440                15.297606  \n",
            "100                 4.2170                13.343000  \n"
          ],
          "name": "stdout"
        },
        {
          "output_type": "execute_result",
          "data": {
            "text/plain": [
              "'\\n\\nAs we concatenated 2 dataframes to one dataframe \"final_df\", the index is not in sorted manner. \\n\\nHence we will sort the index first.\\n\\nAlso we dont have original target variable in final_df, we need to add that original Target variable \"Seed type\" as well.\\n\\n'"
            ]
          },
          "metadata": {
            "tags": []
          },
          "execution_count": 385
        }
      ]
    },
    {
      "cell_type": "code",
      "metadata": {
        "id": "wpl6Gq-QYaV7"
      },
      "source": [
        "final_df.sort_index(inplace=True) \n",
        "\n",
        "# this command sorts the index in ascending order and the argument which we gave inplace=True,performs operation and returns the copy of teh object. "
      ],
      "execution_count": null,
      "outputs": []
    },
    {
      "cell_type": "code",
      "metadata": {
        "id": "kPyWvsPQYaV7",
        "outputId": "680eba76-0ca1-4cc4-a6b9-eed29b3efc4a"
      },
      "source": [
        "final_df # displaying dataframe to see if index values are sorted. "
      ],
      "execution_count": null,
      "outputs": [
        {
          "output_type": "execute_result",
          "data": {
            "text/html": [
              "<div>\n",
              "<style scoped>\n",
              "    .dataframe tbody tr th:only-of-type {\n",
              "        vertical-align: middle;\n",
              "    }\n",
              "\n",
              "    .dataframe tbody tr th {\n",
              "        vertical-align: top;\n",
              "    }\n",
              "\n",
              "    .dataframe thead th {\n",
              "        text-align: right;\n",
              "    }\n",
              "</style>\n",
              "<table border=\"1\" class=\"dataframe\">\n",
              "  <thead>\n",
              "    <tr style=\"text-align: right;\">\n",
              "      <th></th>\n",
              "      <th>Area</th>\n",
              "      <th>Perimeter</th>\n",
              "      <th>Compactness</th>\n",
              "      <th>Length Of Kernel</th>\n",
              "      <th>Width Of Kernel</th>\n",
              "      <th>Asymmetry Coefficient</th>\n",
              "      <th>Length Of Kernel Groove</th>\n",
              "    </tr>\n",
              "  </thead>\n",
              "  <tbody>\n",
              "    <tr>\n",
              "      <th>0</th>\n",
              "      <td>15.26</td>\n",
              "      <td>14.84</td>\n",
              "      <td>0.8710</td>\n",
              "      <td>5.763</td>\n",
              "      <td>3.312</td>\n",
              "      <td>2.221</td>\n",
              "      <td>5.220000</td>\n",
              "    </tr>\n",
              "    <tr>\n",
              "      <th>1</th>\n",
              "      <td>14.88</td>\n",
              "      <td>14.57</td>\n",
              "      <td>0.8811</td>\n",
              "      <td>5.554</td>\n",
              "      <td>3.333</td>\n",
              "      <td>1.018</td>\n",
              "      <td>4.956000</td>\n",
              "    </tr>\n",
              "    <tr>\n",
              "      <th>2</th>\n",
              "      <td>14.29</td>\n",
              "      <td>14.09</td>\n",
              "      <td>0.9050</td>\n",
              "      <td>5.291</td>\n",
              "      <td>3.337</td>\n",
              "      <td>2.699</td>\n",
              "      <td>4.825000</td>\n",
              "    </tr>\n",
              "    <tr>\n",
              "      <th>3</th>\n",
              "      <td>13.84</td>\n",
              "      <td>13.94</td>\n",
              "      <td>0.8955</td>\n",
              "      <td>5.324</td>\n",
              "      <td>3.379</td>\n",
              "      <td>2.259</td>\n",
              "      <td>4.805000</td>\n",
              "    </tr>\n",
              "    <tr>\n",
              "      <th>4</th>\n",
              "      <td>16.14</td>\n",
              "      <td>14.99</td>\n",
              "      <td>0.9034</td>\n",
              "      <td>5.658</td>\n",
              "      <td>3.562</td>\n",
              "      <td>1.355</td>\n",
              "      <td>5.175000</td>\n",
              "    </tr>\n",
              "    <tr>\n",
              "      <th>...</th>\n",
              "      <td>...</td>\n",
              "      <td>...</td>\n",
              "      <td>...</td>\n",
              "      <td>...</td>\n",
              "      <td>...</td>\n",
              "      <td>...</td>\n",
              "      <td>...</td>\n",
              "    </tr>\n",
              "    <tr>\n",
              "      <th>205</th>\n",
              "      <td>12.19</td>\n",
              "      <td>13.20</td>\n",
              "      <td>0.8783</td>\n",
              "      <td>5.137</td>\n",
              "      <td>2.981</td>\n",
              "      <td>3.631</td>\n",
              "      <td>4.870000</td>\n",
              "    </tr>\n",
              "    <tr>\n",
              "      <th>206</th>\n",
              "      <td>11.23</td>\n",
              "      <td>12.88</td>\n",
              "      <td>0.8511</td>\n",
              "      <td>5.140</td>\n",
              "      <td>2.795</td>\n",
              "      <td>4.325</td>\n",
              "      <td>5.003000</td>\n",
              "    </tr>\n",
              "    <tr>\n",
              "      <th>207</th>\n",
              "      <td>13.20</td>\n",
              "      <td>13.66</td>\n",
              "      <td>0.8883</td>\n",
              "      <td>5.236</td>\n",
              "      <td>3.232</td>\n",
              "      <td>8.315</td>\n",
              "      <td>5.056000</td>\n",
              "    </tr>\n",
              "    <tr>\n",
              "      <th>208</th>\n",
              "      <td>11.84</td>\n",
              "      <td>13.21</td>\n",
              "      <td>0.8521</td>\n",
              "      <td>5.175</td>\n",
              "      <td>2.836</td>\n",
              "      <td>3.598</td>\n",
              "      <td>9.732637</td>\n",
              "    </tr>\n",
              "    <tr>\n",
              "      <th>209</th>\n",
              "      <td>12.30</td>\n",
              "      <td>13.34</td>\n",
              "      <td>0.8684</td>\n",
              "      <td>5.243</td>\n",
              "      <td>2.974</td>\n",
              "      <td>5.637</td>\n",
              "      <td>5.063000</td>\n",
              "    </tr>\n",
              "  </tbody>\n",
              "</table>\n",
              "<p>210 rows × 7 columns</p>\n",
              "</div>"
            ],
            "text/plain": [
              "      Area  Perimeter  Compactness  Length Of Kernel  Width Of Kernel  \\\n",
              "0    15.26      14.84       0.8710             5.763            3.312   \n",
              "1    14.88      14.57       0.8811             5.554            3.333   \n",
              "2    14.29      14.09       0.9050             5.291            3.337   \n",
              "3    13.84      13.94       0.8955             5.324            3.379   \n",
              "4    16.14      14.99       0.9034             5.658            3.562   \n",
              "..     ...        ...          ...               ...              ...   \n",
              "205  12.19      13.20       0.8783             5.137            2.981   \n",
              "206  11.23      12.88       0.8511             5.140            2.795   \n",
              "207  13.20      13.66       0.8883             5.236            3.232   \n",
              "208  11.84      13.21       0.8521             5.175            2.836   \n",
              "209  12.30      13.34       0.8684             5.243            2.974   \n",
              "\n",
              "     Asymmetry Coefficient  Length Of Kernel Groove  \n",
              "0                    2.221                 5.220000  \n",
              "1                    1.018                 4.956000  \n",
              "2                    2.699                 4.825000  \n",
              "3                    2.259                 4.805000  \n",
              "4                    1.355                 5.175000  \n",
              "..                     ...                      ...  \n",
              "205                  3.631                 4.870000  \n",
              "206                  4.325                 5.003000  \n",
              "207                  8.315                 5.056000  \n",
              "208                  3.598                 9.732637  \n",
              "209                  5.637                 5.063000  \n",
              "\n",
              "[210 rows x 7 columns]"
            ]
          },
          "metadata": {
            "tags": []
          },
          "execution_count": 387
        }
      ]
    },
    {
      "cell_type": "markdown",
      "metadata": {
        "id": "Pjr7aKrMYaV7"
      },
      "source": [
        "### Checking for null values in final dataframe."
      ]
    },
    {
      "cell_type": "code",
      "metadata": {
        "id": "LHxVfGSaYaV8",
        "outputId": "f218b55c-0386-4238-eb9e-ce693e52f0c2"
      },
      "source": [
        "final_df.isnull().sum() \n",
        "\n",
        "# this command checks for null values in entire dataset, It returns true if it has NULL and sum() will add all the true values. \n",
        "\n",
        "# Boolean value of True is considered as 1 and sum() returns the sum of all the nul lvalues present in a particular column.\n",
        "\n",
        "# Per below output, we see that there are no Null values inthe dataframe. "
      ],
      "execution_count": null,
      "outputs": [
        {
          "output_type": "execute_result",
          "data": {
            "text/plain": [
              "Area                       0\n",
              "Perimeter                  0\n",
              "Compactness                0\n",
              "Length Of Kernel           0\n",
              "Width Of Kernel            0\n",
              "Asymmetry Coefficient      0\n",
              "Length Of Kernel Groove    0\n",
              "dtype: int64"
            ]
          },
          "metadata": {
            "tags": []
          },
          "execution_count": 388
        }
      ]
    },
    {
      "cell_type": "markdown",
      "metadata": {
        "id": "bIt70OgfYaV8"
      },
      "source": [
        "#### Checking our original dataframe where we have original target variable."
      ]
    },
    {
      "cell_type": "code",
      "metadata": {
        "id": "tgwHozOEYaV9",
        "outputId": "7b5dad22-95c3-4163-dbc4-a3a6e790bb18"
      },
      "source": [
        "df_org # Displays original dataframe\n",
        "\n",
        "# We use this original dataframe to extract target variable and add it to final_df (imputed dataframe)"
      ],
      "execution_count": null,
      "outputs": [
        {
          "output_type": "execute_result",
          "data": {
            "text/html": [
              "<div>\n",
              "<style scoped>\n",
              "    .dataframe tbody tr th:only-of-type {\n",
              "        vertical-align: middle;\n",
              "    }\n",
              "\n",
              "    .dataframe tbody tr th {\n",
              "        vertical-align: top;\n",
              "    }\n",
              "\n",
              "    .dataframe thead th {\n",
              "        text-align: right;\n",
              "    }\n",
              "</style>\n",
              "<table border=\"1\" class=\"dataframe\">\n",
              "  <thead>\n",
              "    <tr style=\"text-align: right;\">\n",
              "      <th></th>\n",
              "      <th>Area</th>\n",
              "      <th>Perimeter</th>\n",
              "      <th>Compactness</th>\n",
              "      <th>Length Of Kernel</th>\n",
              "      <th>Width Of Kernel</th>\n",
              "      <th>Asymmetry Coefficient</th>\n",
              "      <th>Length Of Kernel Groove</th>\n",
              "      <th>Seed Type</th>\n",
              "    </tr>\n",
              "  </thead>\n",
              "  <tbody>\n",
              "    <tr>\n",
              "      <th>0</th>\n",
              "      <td>15.26</td>\n",
              "      <td>14.84</td>\n",
              "      <td>0.8710</td>\n",
              "      <td>5.763</td>\n",
              "      <td>3.312</td>\n",
              "      <td>2.221</td>\n",
              "      <td>5.220</td>\n",
              "      <td>1</td>\n",
              "    </tr>\n",
              "    <tr>\n",
              "      <th>1</th>\n",
              "      <td>14.88</td>\n",
              "      <td>14.57</td>\n",
              "      <td>0.8811</td>\n",
              "      <td>5.554</td>\n",
              "      <td>3.333</td>\n",
              "      <td>1.018</td>\n",
              "      <td>4.956</td>\n",
              "      <td>1</td>\n",
              "    </tr>\n",
              "    <tr>\n",
              "      <th>2</th>\n",
              "      <td>14.29</td>\n",
              "      <td>14.09</td>\n",
              "      <td>0.9050</td>\n",
              "      <td>5.291</td>\n",
              "      <td>3.337</td>\n",
              "      <td>2.699</td>\n",
              "      <td>4.825</td>\n",
              "      <td>1</td>\n",
              "    </tr>\n",
              "    <tr>\n",
              "      <th>3</th>\n",
              "      <td>13.84</td>\n",
              "      <td>13.94</td>\n",
              "      <td>0.8955</td>\n",
              "      <td>5.324</td>\n",
              "      <td>3.379</td>\n",
              "      <td>2.259</td>\n",
              "      <td>4.805</td>\n",
              "      <td>1</td>\n",
              "    </tr>\n",
              "    <tr>\n",
              "      <th>4</th>\n",
              "      <td>16.14</td>\n",
              "      <td>14.99</td>\n",
              "      <td>0.9034</td>\n",
              "      <td>5.658</td>\n",
              "      <td>3.562</td>\n",
              "      <td>1.355</td>\n",
              "      <td>5.175</td>\n",
              "      <td>1</td>\n",
              "    </tr>\n",
              "    <tr>\n",
              "      <th>...</th>\n",
              "      <td>...</td>\n",
              "      <td>...</td>\n",
              "      <td>...</td>\n",
              "      <td>...</td>\n",
              "      <td>...</td>\n",
              "      <td>...</td>\n",
              "      <td>...</td>\n",
              "      <td>...</td>\n",
              "    </tr>\n",
              "    <tr>\n",
              "      <th>205</th>\n",
              "      <td>12.19</td>\n",
              "      <td>13.20</td>\n",
              "      <td>0.8783</td>\n",
              "      <td>5.137</td>\n",
              "      <td>2.981</td>\n",
              "      <td>3.631</td>\n",
              "      <td>4.870</td>\n",
              "      <td>3</td>\n",
              "    </tr>\n",
              "    <tr>\n",
              "      <th>206</th>\n",
              "      <td>11.23</td>\n",
              "      <td>12.88</td>\n",
              "      <td>0.8511</td>\n",
              "      <td>5.140</td>\n",
              "      <td>2.795</td>\n",
              "      <td>4.325</td>\n",
              "      <td>5.003</td>\n",
              "      <td>3</td>\n",
              "    </tr>\n",
              "    <tr>\n",
              "      <th>207</th>\n",
              "      <td>13.20</td>\n",
              "      <td>13.66</td>\n",
              "      <td>0.8883</td>\n",
              "      <td>5.236</td>\n",
              "      <td>3.232</td>\n",
              "      <td>8.315</td>\n",
              "      <td>5.056</td>\n",
              "      <td>3</td>\n",
              "    </tr>\n",
              "    <tr>\n",
              "      <th>208</th>\n",
              "      <td>11.84</td>\n",
              "      <td>13.21</td>\n",
              "      <td>0.8521</td>\n",
              "      <td>5.175</td>\n",
              "      <td>2.836</td>\n",
              "      <td>3.598</td>\n",
              "      <td>5.044</td>\n",
              "      <td>3</td>\n",
              "    </tr>\n",
              "    <tr>\n",
              "      <th>209</th>\n",
              "      <td>12.30</td>\n",
              "      <td>13.34</td>\n",
              "      <td>0.8684</td>\n",
              "      <td>5.243</td>\n",
              "      <td>2.974</td>\n",
              "      <td>5.637</td>\n",
              "      <td>5.063</td>\n",
              "      <td>3</td>\n",
              "    </tr>\n",
              "  </tbody>\n",
              "</table>\n",
              "<p>210 rows × 8 columns</p>\n",
              "</div>"
            ],
            "text/plain": [
              "      Area  Perimeter  Compactness  Length Of Kernel  Width Of Kernel  \\\n",
              "0    15.26      14.84       0.8710             5.763            3.312   \n",
              "1    14.88      14.57       0.8811             5.554            3.333   \n",
              "2    14.29      14.09       0.9050             5.291            3.337   \n",
              "3    13.84      13.94       0.8955             5.324            3.379   \n",
              "4    16.14      14.99       0.9034             5.658            3.562   \n",
              "..     ...        ...          ...               ...              ...   \n",
              "205  12.19      13.20       0.8783             5.137            2.981   \n",
              "206  11.23      12.88       0.8511             5.140            2.795   \n",
              "207  13.20      13.66       0.8883             5.236            3.232   \n",
              "208  11.84      13.21       0.8521             5.175            2.836   \n",
              "209  12.30      13.34       0.8684             5.243            2.974   \n",
              "\n",
              "     Asymmetry Coefficient  Length Of Kernel Groove  Seed Type  \n",
              "0                    2.221                    5.220          1  \n",
              "1                    1.018                    4.956          1  \n",
              "2                    2.699                    4.825          1  \n",
              "3                    2.259                    4.805          1  \n",
              "4                    1.355                    5.175          1  \n",
              "..                     ...                      ...        ...  \n",
              "205                  3.631                    4.870          3  \n",
              "206                  4.325                    5.003          3  \n",
              "207                  8.315                    5.056          3  \n",
              "208                  3.598                    5.044          3  \n",
              "209                  5.637                    5.063          3  \n",
              "\n",
              "[210 rows x 8 columns]"
            ]
          },
          "metadata": {
            "tags": []
          },
          "execution_count": 389
        }
      ]
    },
    {
      "cell_type": "code",
      "metadata": {
        "id": "DQ6x2nt2YaV9"
      },
      "source": [
        "seed_typ = df_for_target['Seed Type'] \n",
        "\n",
        "# assigning the values of seed type column from original dataframe to a variable 'seed_typ'\n"
      ],
      "execution_count": null,
      "outputs": []
    },
    {
      "cell_type": "code",
      "metadata": {
        "id": "wmnQkqOmYaV9"
      },
      "source": [
        "final_df['Seed Type'] = seed_typ\n",
        "\n",
        "# This command will create a new column called \"Seed Type\" in to final dataframe and this column will have all the original Target label values."
      ],
      "execution_count": null,
      "outputs": []
    },
    {
      "cell_type": "code",
      "metadata": {
        "id": "sZ32pfjzYaV-",
        "outputId": "807415b1-64c7-492d-9399-3b18340cb6a5"
      },
      "source": [
        "final_df.head() \n",
        "\n",
        "# Checking top 5 observationsto see if new column and it's values are displayed. "
      ],
      "execution_count": null,
      "outputs": [
        {
          "output_type": "execute_result",
          "data": {
            "text/html": [
              "<div>\n",
              "<style scoped>\n",
              "    .dataframe tbody tr th:only-of-type {\n",
              "        vertical-align: middle;\n",
              "    }\n",
              "\n",
              "    .dataframe tbody tr th {\n",
              "        vertical-align: top;\n",
              "    }\n",
              "\n",
              "    .dataframe thead th {\n",
              "        text-align: right;\n",
              "    }\n",
              "</style>\n",
              "<table border=\"1\" class=\"dataframe\">\n",
              "  <thead>\n",
              "    <tr style=\"text-align: right;\">\n",
              "      <th></th>\n",
              "      <th>Area</th>\n",
              "      <th>Perimeter</th>\n",
              "      <th>Compactness</th>\n",
              "      <th>Length Of Kernel</th>\n",
              "      <th>Width Of Kernel</th>\n",
              "      <th>Asymmetry Coefficient</th>\n",
              "      <th>Length Of Kernel Groove</th>\n",
              "      <th>Seed Type</th>\n",
              "    </tr>\n",
              "  </thead>\n",
              "  <tbody>\n",
              "    <tr>\n",
              "      <th>0</th>\n",
              "      <td>15.26</td>\n",
              "      <td>14.84</td>\n",
              "      <td>0.8710</td>\n",
              "      <td>5.763</td>\n",
              "      <td>3.312</td>\n",
              "      <td>2.221</td>\n",
              "      <td>5.220</td>\n",
              "      <td>1</td>\n",
              "    </tr>\n",
              "    <tr>\n",
              "      <th>1</th>\n",
              "      <td>14.88</td>\n",
              "      <td>14.57</td>\n",
              "      <td>0.8811</td>\n",
              "      <td>5.554</td>\n",
              "      <td>3.333</td>\n",
              "      <td>1.018</td>\n",
              "      <td>4.956</td>\n",
              "      <td>1</td>\n",
              "    </tr>\n",
              "    <tr>\n",
              "      <th>2</th>\n",
              "      <td>14.29</td>\n",
              "      <td>14.09</td>\n",
              "      <td>0.9050</td>\n",
              "      <td>5.291</td>\n",
              "      <td>3.337</td>\n",
              "      <td>2.699</td>\n",
              "      <td>4.825</td>\n",
              "      <td>1</td>\n",
              "    </tr>\n",
              "    <tr>\n",
              "      <th>3</th>\n",
              "      <td>13.84</td>\n",
              "      <td>13.94</td>\n",
              "      <td>0.8955</td>\n",
              "      <td>5.324</td>\n",
              "      <td>3.379</td>\n",
              "      <td>2.259</td>\n",
              "      <td>4.805</td>\n",
              "      <td>1</td>\n",
              "    </tr>\n",
              "    <tr>\n",
              "      <th>4</th>\n",
              "      <td>16.14</td>\n",
              "      <td>14.99</td>\n",
              "      <td>0.9034</td>\n",
              "      <td>5.658</td>\n",
              "      <td>3.562</td>\n",
              "      <td>1.355</td>\n",
              "      <td>5.175</td>\n",
              "      <td>1</td>\n",
              "    </tr>\n",
              "  </tbody>\n",
              "</table>\n",
              "</div>"
            ],
            "text/plain": [
              "    Area  Perimeter  Compactness  Length Of Kernel  Width Of Kernel  \\\n",
              "0  15.26      14.84       0.8710             5.763            3.312   \n",
              "1  14.88      14.57       0.8811             5.554            3.333   \n",
              "2  14.29      14.09       0.9050             5.291            3.337   \n",
              "3  13.84      13.94       0.8955             5.324            3.379   \n",
              "4  16.14      14.99       0.9034             5.658            3.562   \n",
              "\n",
              "   Asymmetry Coefficient  Length Of Kernel Groove  Seed Type  \n",
              "0                  2.221                    5.220          1  \n",
              "1                  1.018                    4.956          1  \n",
              "2                  2.699                    4.825          1  \n",
              "3                  2.259                    4.805          1  \n",
              "4                  1.355                    5.175          1  "
            ]
          },
          "metadata": {
            "tags": []
          },
          "execution_count": 392
        }
      ]
    },
    {
      "cell_type": "code",
      "metadata": {
        "id": "_Bo5WPz2YaV-"
      },
      "source": [
        ""
      ],
      "execution_count": null,
      "outputs": []
    },
    {
      "cell_type": "markdown",
      "metadata": {
        "id": "Mv2yctqBYaV-"
      },
      "source": [
        "### Step 9 : Create a k nearest Classifier   (`k = 3`) for the dataframe you created in *Step 8*\n",
        "\n",
        "As we took classification dataset, we will perform classification instead of Regression."
      ]
    },
    {
      "cell_type": "markdown",
      "metadata": {
        "id": "8gUqmvn-YaV_"
      },
      "source": [
        "##### Assigning input variables and Target variable to X1 and Y1 restectively"
      ]
    },
    {
      "cell_type": "code",
      "metadata": {
        "id": "lvdKPT6tYaV_"
      },
      "source": [
        "X1= final_df.iloc[:,0:7].values # we used pandas iloc, integer based indexing for selecting predictor variables.\n",
        "\n",
        "\n",
        "Y1 = final_df.iloc[:,-1].values # -1 selects the last column of the dataframe, which is target variable 'seed type'"
      ],
      "execution_count": null,
      "outputs": []
    },
    {
      "cell_type": "markdown",
      "metadata": {
        "id": "z90tL6gzYaV_"
      },
      "source": [
        "####  Split the data into train and test sets"
      ]
    },
    {
      "cell_type": "code",
      "metadata": {
        "id": "-LCnCfi0YaWA"
      },
      "source": [
        "X_final_train,X_final_test, y_final_train, y_final_test = train_test_split(X1,Y1,test_size= 0.28, random_state = 1111)\n",
        "\n",
        "# We gave test_size parameteras 0.28. which implies testing set data will be 28% and Training setdata will be 72 % of original data, we set random state to 1111, this can be any number. If we set a particular number, that particular sample will be repeated again on every iteration. "
      ],
      "execution_count": null,
      "outputs": []
    },
    {
      "cell_type": "code",
      "metadata": {
        "id": "CE_BOAvtYaWA",
        "outputId": "da85c58f-e8fc-4b1e-9fe7-876591d8b53b"
      },
      "source": [
        "\n",
        "print(\"Shape of training data is {}\".format(X_final_train.shape)) # printing shape of train data\n",
        "print(\"Shape of test data is {}\".format(X_final_test.shape)) # printing shape of test data\n",
        "print(\"\\n\") # To create a gap between the codes.\n",
        "\n",
        "print(\"Shape of training labels is {}\".format(y_final_train.shape)) # printing shape of train data labels\n",
        "print(\"Shape of test labels is {}\".format(y_final_test.shape)) # printing shape of test data labels\n"
      ],
      "execution_count": null,
      "outputs": [
        {
          "output_type": "stream",
          "text": [
            "Shape of training data is (151, 7)\n",
            "Shape of test data is (59, 7)\n",
            "\n",
            "\n",
            "Shape of training labels is (151,)\n",
            "Shape of test labels is (59,)\n"
          ],
          "name": "stdout"
        }
      ]
    },
    {
      "cell_type": "markdown",
      "metadata": {
        "id": "1Md_Sa_yYaWA"
      },
      "source": [
        "#### Scaling the data"
      ]
    },
    {
      "cell_type": "code",
      "metadata": {
        "id": "N1PsYzj7YaWB"
      },
      "source": [
        "scaler_final = StandardScaler() # We initialise the standard scaler, for each feature it subtracts mean and divides it by standard deviation.\n",
        "\n",
        "scaler_final.fit(X_final_train) #  this command fits the scaler function to training data.\n",
        "\n",
        "X_final_train_scaled = scaler_final.transform(X_final_train) # this command transforms and returns the scaled values of X_train_final.\n",
        "\n",
        "\n",
        "X_final_test_scaled = scaler_final.transform(X_final_test) # this command transforms and returns the scaled values of X_test_final.\n"
      ],
      "execution_count": null,
      "outputs": []
    },
    {
      "cell_type": "code",
      "metadata": {
        "id": "p6_av5wSYaWB"
      },
      "source": [
        ""
      ],
      "execution_count": null,
      "outputs": []
    },
    {
      "cell_type": "markdown",
      "metadata": {
        "id": "N6KpIAJ8YaWB"
      },
      "source": [
        "#### Instantiating model and setting model parameters.\n"
      ]
    },
    {
      "cell_type": "code",
      "metadata": {
        "id": "jjH_etB1YaWC"
      },
      "source": [
        "clf_final = KNeighborsClassifier(n_neighbors=3)\n",
        "\n",
        "# We instantiate the model by assigning KNeighborsClassifier it to variable \"clf_final\". Also we give number of neighbors, i.e. K=3 which is a hyperparameter in KNN."
      ],
      "execution_count": null,
      "outputs": []
    },
    {
      "cell_type": "markdown",
      "metadata": {
        "id": "y-4QCp4RYaWC"
      },
      "source": [
        "#### Fitting the model."
      ]
    },
    {
      "cell_type": "code",
      "metadata": {
        "id": "8J6cfw8XYaWC",
        "outputId": "a8099b62-812c-4e5c-ebe3-bba1912ce701"
      },
      "source": [
        "clf_final.fit(X_final_train_scaled,y_final_train) # We fit the model to scaled X_final_train and y_final_train data.\n",
        "\n",
        "# model will learn from this"
      ],
      "execution_count": null,
      "outputs": [
        {
          "output_type": "execute_result",
          "data": {
            "text/plain": [
              "KNeighborsClassifier(algorithm='auto', leaf_size=30, metric='minkowski',\n",
              "                     metric_params=None, n_jobs=None, n_neighbors=3, p=2,\n",
              "                     weights='uniform')"
            ]
          },
          "metadata": {
            "tags": []
          },
          "execution_count": 398
        }
      ]
    },
    {
      "cell_type": "markdown",
      "metadata": {
        "id": "T7jGQrzSYaWD"
      },
      "source": [
        "#### Evaluating the model"
      ]
    },
    {
      "cell_type": "code",
      "metadata": {
        "id": "9PWaVZMDYaWD",
        "outputId": "bb45d35e-232d-48d0-d440-c8b208fa1f77"
      },
      "source": [
        "acc_train_final = clf_final.score(X_final_train_scaled, y_final_train) # This command checks the mean accuracy of trainng set data\n",
        "acc_test_final = clf_final.score(X_final_test_scaled, y_final_test) # This command checks the mean accuracy of test set data\n",
        "\n",
        "# score() method returns the mean accuracy on the given data and labels.\n",
        "\n",
        "print(\"Training set accuracy: {:.2f} %\".format(acc_train_final*100))  # prints training set accuracy of Imputed_dataframe\n",
        "print(\"Test set accuracy: {:.2f} %\".format(acc_test_final*100))   # Prints test set accuracy of Imputed dataframe."
      ],
      "execution_count": null,
      "outputs": [
        {
          "output_type": "stream",
          "text": [
            "Training set accuracy: 94.04 %\n",
            "Test set accuracy: 93.22 %\n"
          ],
          "name": "stdout"
        }
      ]
    },
    {
      "cell_type": "code",
      "metadata": {
        "id": "z21dbtuYYaWE"
      },
      "source": [
        ""
      ],
      "execution_count": null,
      "outputs": []
    },
    {
      "cell_type": "markdown",
      "metadata": {
        "id": "Pm9B0SM4YaWE"
      },
      "source": [
        "### Step 10 : Create a k nearest neighbours Classifier (`k = 3`) for the original dataframe (from *Step 2* and maybe *Step 3*)"
      ]
    },
    {
      "cell_type": "markdown",
      "metadata": {
        "id": "jl_aZItvYaWE"
      },
      "source": [
        "#### df_org contains the original dataframe data"
      ]
    },
    {
      "cell_type": "code",
      "metadata": {
        "id": "_XGvNMEnYaWE",
        "outputId": "3d2b1cbd-463c-4a2e-a8f6-9d9f7381700f"
      },
      "source": [
        "\n",
        "# df_org contains the original dafatrame\n",
        "\n",
        "df_org.head() \n",
        "\n",
        "# Checkingtop 5 observatrions of original dataframe."
      ],
      "execution_count": null,
      "outputs": [
        {
          "output_type": "execute_result",
          "data": {
            "text/html": [
              "<div>\n",
              "<style scoped>\n",
              "    .dataframe tbody tr th:only-of-type {\n",
              "        vertical-align: middle;\n",
              "    }\n",
              "\n",
              "    .dataframe tbody tr th {\n",
              "        vertical-align: top;\n",
              "    }\n",
              "\n",
              "    .dataframe thead th {\n",
              "        text-align: right;\n",
              "    }\n",
              "</style>\n",
              "<table border=\"1\" class=\"dataframe\">\n",
              "  <thead>\n",
              "    <tr style=\"text-align: right;\">\n",
              "      <th></th>\n",
              "      <th>Area</th>\n",
              "      <th>Perimeter</th>\n",
              "      <th>Compactness</th>\n",
              "      <th>Length Of Kernel</th>\n",
              "      <th>Width Of Kernel</th>\n",
              "      <th>Asymmetry Coefficient</th>\n",
              "      <th>Length Of Kernel Groove</th>\n",
              "      <th>Seed Type</th>\n",
              "    </tr>\n",
              "  </thead>\n",
              "  <tbody>\n",
              "    <tr>\n",
              "      <th>0</th>\n",
              "      <td>15.26</td>\n",
              "      <td>14.84</td>\n",
              "      <td>0.8710</td>\n",
              "      <td>5.763</td>\n",
              "      <td>3.312</td>\n",
              "      <td>2.221</td>\n",
              "      <td>5.220</td>\n",
              "      <td>1</td>\n",
              "    </tr>\n",
              "    <tr>\n",
              "      <th>1</th>\n",
              "      <td>14.88</td>\n",
              "      <td>14.57</td>\n",
              "      <td>0.8811</td>\n",
              "      <td>5.554</td>\n",
              "      <td>3.333</td>\n",
              "      <td>1.018</td>\n",
              "      <td>4.956</td>\n",
              "      <td>1</td>\n",
              "    </tr>\n",
              "    <tr>\n",
              "      <th>2</th>\n",
              "      <td>14.29</td>\n",
              "      <td>14.09</td>\n",
              "      <td>0.9050</td>\n",
              "      <td>5.291</td>\n",
              "      <td>3.337</td>\n",
              "      <td>2.699</td>\n",
              "      <td>4.825</td>\n",
              "      <td>1</td>\n",
              "    </tr>\n",
              "    <tr>\n",
              "      <th>3</th>\n",
              "      <td>13.84</td>\n",
              "      <td>13.94</td>\n",
              "      <td>0.8955</td>\n",
              "      <td>5.324</td>\n",
              "      <td>3.379</td>\n",
              "      <td>2.259</td>\n",
              "      <td>4.805</td>\n",
              "      <td>1</td>\n",
              "    </tr>\n",
              "    <tr>\n",
              "      <th>4</th>\n",
              "      <td>16.14</td>\n",
              "      <td>14.99</td>\n",
              "      <td>0.9034</td>\n",
              "      <td>5.658</td>\n",
              "      <td>3.562</td>\n",
              "      <td>1.355</td>\n",
              "      <td>5.175</td>\n",
              "      <td>1</td>\n",
              "    </tr>\n",
              "  </tbody>\n",
              "</table>\n",
              "</div>"
            ],
            "text/plain": [
              "    Area  Perimeter  Compactness  Length Of Kernel  Width Of Kernel  \\\n",
              "0  15.26      14.84       0.8710             5.763            3.312   \n",
              "1  14.88      14.57       0.8811             5.554            3.333   \n",
              "2  14.29      14.09       0.9050             5.291            3.337   \n",
              "3  13.84      13.94       0.8955             5.324            3.379   \n",
              "4  16.14      14.99       0.9034             5.658            3.562   \n",
              "\n",
              "   Asymmetry Coefficient  Length Of Kernel Groove  Seed Type  \n",
              "0                  2.221                    5.220          1  \n",
              "1                  1.018                    4.956          1  \n",
              "2                  2.699                    4.825          1  \n",
              "3                  2.259                    4.805          1  \n",
              "4                  1.355                    5.175          1  "
            ]
          },
          "metadata": {
            "tags": []
          },
          "execution_count": 400
        }
      ]
    },
    {
      "cell_type": "markdown",
      "metadata": {
        "id": "UXwbkl8oYaWF"
      },
      "source": [
        "#### Assiging input and target variables to X2 and Y2 variables. "
      ]
    },
    {
      "cell_type": "code",
      "metadata": {
        "id": "F3YDCm-LYaWF"
      },
      "source": [
        "X2 = df_org.iloc[:,0:7].values # we used pandas iloc, integer based indexing for selecting predictor variables, we select all 6 by slicing.\n",
        "\n",
        "# .values returns values in numpy array. \n",
        "\n",
        "Y2 = df_org.iloc[:,-1].values \n",
        "\n",
        "# # -1 selects the last column of the dataframe. Y2 contains, target variable values in numpy format."
      ],
      "execution_count": null,
      "outputs": []
    },
    {
      "cell_type": "markdown",
      "metadata": {
        "id": "3geaBBSKYaWI"
      },
      "source": [
        "### Splitting the dataset in to Training and Tesing"
      ]
    },
    {
      "cell_type": "code",
      "metadata": {
        "id": "f2L54wzTYaWI"
      },
      "source": [
        "X_org_train,X_org_test, y_org_train, y_org_test = train_test_split(X2,Y2,test_size= 0.28, random_state = 2222)\n",
        "\n",
        "\n",
        "# here original dataframe will be splitted into training and testing, i have set test_size parameter to 0.28, which mean 28% of total data will be used for testng and 72% of data for training the model.\n"
      ],
      "execution_count": null,
      "outputs": []
    },
    {
      "cell_type": "code",
      "metadata": {
        "id": "yviE6GyjYaWI",
        "outputId": "3d5c606d-852f-4c53-9725-2ec5bc6b8079"
      },
      "source": [
        "print(\"Shape of training data is {}\".format(X_org_train.shape)) # prints shape of original train data\n",
        "print(\"Shape of test data is {}\".format(X_org_test.shape)) # prints shape of Original test data\n",
        "print(\"\\n\")\n",
        "\n",
        "print(\"Shape of training labels is {}\".format(y_org_train.shape)) # prints shape of Original train data labels\n",
        "print(\"Shape of test labels is {}\".format(y_org_test.shape)) # prints shape of Original test data labels"
      ],
      "execution_count": null,
      "outputs": [
        {
          "output_type": "stream",
          "text": [
            "Shape of training data is (151, 7)\n",
            "Shape of test data is (59, 7)\n",
            "\n",
            "\n",
            "Shape of training labels is (151,)\n",
            "Shape of test labels is (59,)\n"
          ],
          "name": "stdout"
        }
      ]
    },
    {
      "cell_type": "markdown",
      "metadata": {
        "id": "7o0N-3xJYaWJ"
      },
      "source": [
        "#### Scaling the data"
      ]
    },
    {
      "cell_type": "code",
      "metadata": {
        "id": "KwvXysiJYaWJ"
      },
      "source": [
        "scaler_org = StandardScaler() # We initialise StandardSaler\n",
        " \n",
        "scaler_org.fit(X_org_train) # we fit the X_org_train data\n",
        "\n",
        "X_org_train_scaled = scaler_org.transform(X_org_train) # this command returns the scaled values of X_org_train\n",
        "\n",
        "\n",
        "X_org_test_scaled = scaler_org.transform(X_org_test) # this command returns the scaled values of X_org_test"
      ],
      "execution_count": null,
      "outputs": []
    },
    {
      "cell_type": "markdown",
      "metadata": {
        "id": "sptvDDtwYaWJ"
      },
      "source": [
        "#### Instantiating model and setting model parameters."
      ]
    },
    {
      "cell_type": "code",
      "metadata": {
        "id": "NY80LkbHYaWJ"
      },
      "source": [
        "clf_org = KNeighborsClassifier(n_neighbors=3)\n",
        "\n",
        "# We instantiate the model by assigning KNeighborsClassifier it to variable \"clf_org\". Also we give number of neighbors, i.e. K=3 which is a hyperparameter in KNN.\n"
      ],
      "execution_count": null,
      "outputs": []
    },
    {
      "cell_type": "markdown",
      "metadata": {
        "id": "o4Dsyf2_YaWK"
      },
      "source": [
        "#### Fitting the model"
      ]
    },
    {
      "cell_type": "code",
      "metadata": {
        "id": "o0bkGdL5YaWK",
        "outputId": "ec6c588b-79b5-42e8-a61f-e6e8fc74f069"
      },
      "source": [
        "clf_org.fit(X_org_train_scaled,y_org_train) \n",
        "\n",
        "# We fit the model by giving scaled X train and y train data."
      ],
      "execution_count": null,
      "outputs": [
        {
          "output_type": "execute_result",
          "data": {
            "text/plain": [
              "KNeighborsClassifier(algorithm='auto', leaf_size=30, metric='minkowski',\n",
              "                     metric_params=None, n_jobs=None, n_neighbors=3, p=2,\n",
              "                     weights='uniform')"
            ]
          },
          "metadata": {
            "tags": []
          },
          "execution_count": 406
        }
      ]
    },
    {
      "cell_type": "markdown",
      "metadata": {
        "id": "7i9jt9knYaWK"
      },
      "source": [
        "#### Evaluating the model "
      ]
    },
    {
      "cell_type": "code",
      "metadata": {
        "id": "qCcCTgnTYaWK",
        "outputId": "6a38e96c-dd4d-4ad1-e044-e012df1a053a"
      },
      "source": [
        "acc_train_org = clf_org.score(X_org_train_scaled, y_org_train) # This command checks the mean accuracy of trainng set data, we assign to variable acc_train_org.\n",
        "acc_test_org = clf_org.score(X_org_test_scaled, y_org_test) # This command checks the mean accuracy of test set data,  we assign to variable acc_test_org.\n",
        "\n",
        "print(\"Training set accuracy: {:.2f} %\".format(acc_train_org*100))  # prints Training set accuracy\n",
        "print(\"Test set accuracy: {:.2f} %\".format(acc_test_org*100))   # Prints testing set accuracy"
      ],
      "execution_count": null,
      "outputs": [
        {
          "output_type": "stream",
          "text": [
            "Training set accuracy: 95.36 %\n",
            "Test set accuracy: 89.83 %\n"
          ],
          "name": "stdout"
        }
      ]
    },
    {
      "cell_type": "markdown",
      "metadata": {
        "id": "DRELceMmYaWL"
      },
      "source": [
        "### Step 11 :  Is there any significant performance difference between *Step 9* and *Step 10*?"
      ]
    },
    {
      "cell_type": "code",
      "metadata": {
        "id": "G09VcDxkYaWL"
      },
      "source": [
        "data1 = {\n",
        "    'Final_imputed_dataframe' : [acc_train_final*100, acc_test_final*100],\n",
        "    'Original_dataframe' : [acc_train_org*100,acc_test_org*100 ]\n",
        "}\n",
        "\n",
        "'''\n",
        "\n",
        "I created a dictionary with keys (Final_imputed_dataframe, Original_dataframe) and values of training accuracy and testing\n",
        "accuracy, which we got by building respective models.\n",
        "\n",
        "Reason for creating dictionary is, we want to show Train and Test accuracies of both imputed and original dataframes in tabular form.\n",
        "\n",
        "\n",
        "'''"
      ],
      "execution_count": null,
      "outputs": []
    },
    {
      "cell_type": "code",
      "metadata": {
        "id": "ljDBE32IYaWL",
        "outputId": "bd828c6a-89c8-4166-84d8-b251affcd1f2"
      },
      "source": [
        "accuracy_display = pd.DataFrame(data1,index=['Training accuracy (%)','Testing accuracy (%)'])\n",
        "\n",
        "# Above command creates a dataframe, first argument which we gave is a dictionary. We set index as Training and Testing to represent data in a clear form.\n",
        "\n",
        "accuracy_display # displays the dataframe. "
      ],
      "execution_count": null,
      "outputs": [
        {
          "output_type": "execute_result",
          "data": {
            "text/html": [
              "<div>\n",
              "<style scoped>\n",
              "    .dataframe tbody tr th:only-of-type {\n",
              "        vertical-align: middle;\n",
              "    }\n",
              "\n",
              "    .dataframe tbody tr th {\n",
              "        vertical-align: top;\n",
              "    }\n",
              "\n",
              "    .dataframe thead th {\n",
              "        text-align: right;\n",
              "    }\n",
              "</style>\n",
              "<table border=\"1\" class=\"dataframe\">\n",
              "  <thead>\n",
              "    <tr style=\"text-align: right;\">\n",
              "      <th></th>\n",
              "      <th>Final_imputed_dataframe</th>\n",
              "      <th>Original_dataframe</th>\n",
              "    </tr>\n",
              "  </thead>\n",
              "  <tbody>\n",
              "    <tr>\n",
              "      <th>Training accuracy (%)</th>\n",
              "      <td>94.039735</td>\n",
              "      <td>95.364238</td>\n",
              "    </tr>\n",
              "    <tr>\n",
              "      <th>Testing accuracy (%)</th>\n",
              "      <td>93.220339</td>\n",
              "      <td>89.830508</td>\n",
              "    </tr>\n",
              "  </tbody>\n",
              "</table>\n",
              "</div>"
            ],
            "text/plain": [
              "                       Final_imputed_dataframe  Original_dataframe\n",
              "Training accuracy (%)                94.039735           95.364238\n",
              "Testing accuracy (%)                 93.220339           89.830508"
            ]
          },
          "metadata": {
            "tags": []
          },
          "execution_count": 418
        }
      ]
    },
    {
      "cell_type": "markdown",
      "metadata": {
        "id": "cByO2MPRYaWM"
      },
      "source": [
        "#### Observation :\n",
        "\n",
        "            1. From the above Tabular representation, we can see that the Test accuray of \"Final_Imputed_Dataframe\" is higher when compared to \"Original_dataframe\".\n",
        "                    \n",
        "            2. We don't see any huge differences between Test accuracies of original dataframe and Imputed dataframe. \n",
        "                    \n",
        "            3. KNN model on imputed dataframe for seeds dataset provided little higher accuracy (3.3%) more than that of original dataframe.\n",
        "                    \n",
        "            4. Overall, we have less number of observations in the dataset, which mean model couldnt learn much about the data. "
      ]
    },
    {
      "cell_type": "code",
      "metadata": {
        "id": "rBaR2BnjYaWM"
      },
      "source": [
        ""
      ],
      "execution_count": null,
      "outputs": []
    },
    {
      "cell_type": "code",
      "metadata": {
        "id": "Ug19Ur0WYaWM"
      },
      "source": [
        ""
      ],
      "execution_count": null,
      "outputs": []
    },
    {
      "cell_type": "code",
      "metadata": {
        "id": "4kbql1CfYaWM"
      },
      "source": [
        ""
      ],
      "execution_count": null,
      "outputs": []
    },
    {
      "cell_type": "code",
      "metadata": {
        "id": "2e2lNQkgYaWM"
      },
      "source": [
        ""
      ],
      "execution_count": null,
      "outputs": []
    },
    {
      "cell_type": "code",
      "metadata": {
        "id": "dtwIN3VTYaWN"
      },
      "source": [
        ""
      ],
      "execution_count": null,
      "outputs": []
    },
    {
      "cell_type": "code",
      "metadata": {
        "id": "PwZa9drBYaWN"
      },
      "source": [
        ""
      ],
      "execution_count": null,
      "outputs": []
    },
    {
      "cell_type": "code",
      "metadata": {
        "id": "_qpKcqubYaWN"
      },
      "source": [
        ""
      ],
      "execution_count": null,
      "outputs": []
    },
    {
      "cell_type": "code",
      "metadata": {
        "id": "9uWgLbf_YaWN"
      },
      "source": [
        ""
      ],
      "execution_count": null,
      "outputs": []
    },
    {
      "cell_type": "code",
      "metadata": {
        "id": "NngsvfLRYaWN"
      },
      "source": [
        ""
      ],
      "execution_count": null,
      "outputs": []
    },
    {
      "cell_type": "code",
      "metadata": {
        "id": "MYIwCE4AYaWN"
      },
      "source": [
        ""
      ],
      "execution_count": null,
      "outputs": []
    },
    {
      "cell_type": "code",
      "metadata": {
        "id": "hnJYh59KYaWO"
      },
      "source": [
        ""
      ],
      "execution_count": null,
      "outputs": []
    },
    {
      "cell_type": "code",
      "metadata": {
        "id": "96gryKepYaWO"
      },
      "source": [
        ""
      ],
      "execution_count": null,
      "outputs": []
    },
    {
      "cell_type": "code",
      "metadata": {
        "id": "1MTmdAxuYaWO"
      },
      "source": [
        ""
      ],
      "execution_count": null,
      "outputs": []
    },
    {
      "cell_type": "code",
      "metadata": {
        "id": "Qth_mGmDYaWO"
      },
      "source": [
        ""
      ],
      "execution_count": null,
      "outputs": []
    },
    {
      "cell_type": "code",
      "metadata": {
        "id": "nINe8b70YaWO"
      },
      "source": [
        ""
      ],
      "execution_count": null,
      "outputs": []
    },
    {
      "cell_type": "code",
      "metadata": {
        "id": "D_QQQ7k8YaWP"
      },
      "source": [
        ""
      ],
      "execution_count": null,
      "outputs": []
    },
    {
      "cell_type": "code",
      "metadata": {
        "id": "e4fgKF1ZYaWP"
      },
      "source": [
        ""
      ],
      "execution_count": null,
      "outputs": []
    },
    {
      "cell_type": "code",
      "metadata": {
        "id": "GueOuv_DYaWP"
      },
      "source": [
        ""
      ],
      "execution_count": null,
      "outputs": []
    }
  ]
}